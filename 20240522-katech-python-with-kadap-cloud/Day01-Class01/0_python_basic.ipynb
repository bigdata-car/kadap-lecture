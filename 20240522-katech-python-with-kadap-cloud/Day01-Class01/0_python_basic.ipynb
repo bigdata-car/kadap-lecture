{
 "cells": [
  {
   "cell_type": "markdown",
   "id": "163b23de-dae7-45d5-8af8-2f1fe7022832",
   "metadata": {},
   "source": [
    "# **Python 기초 실습**\n",
    "\n",
    "[출처: https://datascienceschool.net/intro.html](https://datascienceschool.net/intro.html)\n",
    "\n",
    "## **학습 목표**\n",
    "\n",
    "- 파이썬으로 숫자를 다루는 법을 학습한다.\n",
    "- 파이썬으로 문자열을 다루는 법을 학습힌다.\n",
    "- if 문을 사용한 기초적인 조건문을 사용할 수 있다.\n",
    "- for 문을 사용한 기초적인 반복문을 사용할 수 있다.\n",
    "- 파이썬 함수를 만들고 사용할 수 있다.\n",
    "- 파이썬 리스트, 딕셔너리 자료형을 사용할 수 있다.\n",
    "- 파이썬에서 날짜와 시간을 다룰 수 있다."
   ]
  },
  {
   "cell_type": "markdown",
   "id": "7d8b725c",
   "metadata": {},
   "source": [
    "## 1. Python의 사칙연산\n",
    "\n",
    "파이썬을 가장 간편하게 활용하는 방법은 간단한 수식을 계산하는 계산기로 사용하는 것이다.  \n",
    "주피터 노트북에서 실행되는 아래 코드는 IPython이나 일반 파이썬 콘솔에서도 작동한다."
   ]
  },
  {
   "cell_type": "markdown",
   "id": "d7e20d72-f41b-4937-bd2f-a0dba79b27f5",
   "metadata": {},
   "source": [
    "## 정수연산  "
   ]
  },
  {
   "cell_type": "code",
   "execution_count": 1,
   "id": "12cb8cd1",
   "metadata": {},
   "outputs": [
    {
     "data": {
      "text/plain": [
       "2"
      ]
     },
     "execution_count": 1,
     "metadata": {},
     "output_type": "execute_result"
    }
   ],
   "source": [
    "1+1 # 모두 붙여쓰기"
   ]
  },
  {
   "cell_type": "code",
   "execution_count": 2,
   "id": "76e77864",
   "metadata": {},
   "outputs": [
    {
     "data": {
      "text/plain": [
       "2"
      ]
     },
     "execution_count": 2,
     "metadata": {},
     "output_type": "execute_result"
    }
   ],
   "source": [
    "1 + 1 # 한 칸씩 띄어 쓰기"
   ]
  },
  {
   "cell_type": "markdown",
   "id": "cfc9d223",
   "metadata": {},
   "source": [
    "위 코드에서 '#' 기호는 주석(설명문, comment)를 의미하는 기호이다.   \n",
    "주석 기호 다음의 글자들은 사람을 위한 것으로 컴퓨터는 주석 기호 다음의 글자를 무시한다.  \n",
    "\n",
    "다음과 같은 기호를 통하여 정수 연산을 할 수 있다.\n",
    "\n",
    "- `+` : 키보드 +\n",
    "- `−` : 키보드 -\n",
    "- `×` : 키보드 *\n",
    "- `÷` (몫을 구하기) : 키보드 // (두 글자로 된 연산기호이므로 띄우지 않고 연속해서 기호를 타이핑한다.)\n",
    "- `÷` (소수점까지 나누기) : 키보드 /\n",
    "- 나머지 : 키보드 %\n",
    "- 제곱 : 키보드"
   ]
  },
  {
   "cell_type": "code",
   "execution_count": 3,
   "id": "31ff889a",
   "metadata": {},
   "outputs": [
    {
     "data": {
      "text/plain": [
       "-2"
      ]
     },
     "execution_count": 3,
     "metadata": {},
     "output_type": "execute_result"
    }
   ],
   "source": [
    "3 + 4 -9"
   ]
  },
  {
   "cell_type": "code",
   "execution_count": 4,
   "id": "04ea3528",
   "metadata": {},
   "outputs": [
    {
     "data": {
      "text/plain": [
       "36"
      ]
     },
     "execution_count": 4,
     "metadata": {},
     "output_type": "execute_result"
    }
   ],
   "source": [
    "4 * 9"
   ]
  },
  {
   "cell_type": "code",
   "execution_count": 5,
   "id": "ced61df2",
   "metadata": {},
   "outputs": [
    {
     "data": {
      "text/plain": [
       "3"
      ]
     },
     "execution_count": 5,
     "metadata": {},
     "output_type": "execute_result"
    }
   ],
   "source": [
    "9 // 3"
   ]
  },
  {
   "cell_type": "code",
   "execution_count": 6,
   "id": "e8cf5224",
   "metadata": {},
   "outputs": [
    {
     "data": {
      "text/plain": [
       "2"
      ]
     },
     "execution_count": 6,
     "metadata": {},
     "output_type": "execute_result"
    }
   ],
   "source": [
    "9 // 4"
   ]
  },
  {
   "cell_type": "code",
   "execution_count": 7,
   "id": "e8744fb6",
   "metadata": {},
   "outputs": [
    {
     "data": {
      "text/plain": [
       "2"
      ]
     },
     "execution_count": 7,
     "metadata": {},
     "output_type": "execute_result"
    }
   ],
   "source": [
    "15 % 13"
   ]
  },
  {
   "cell_type": "code",
   "execution_count": 8,
   "id": "5696e710",
   "metadata": {},
   "outputs": [
    {
     "data": {
      "text/plain": [
       "8"
      ]
     },
     "execution_count": 8,
     "metadata": {},
     "output_type": "execute_result"
    }
   ],
   "source": [
    "2 ** 3"
   ]
  },
  {
   "cell_type": "code",
   "execution_count": 9,
   "id": "ff88cd67",
   "metadata": {},
   "outputs": [
    {
     "data": {
      "text/plain": [
       "0.5"
      ]
     },
     "execution_count": 9,
     "metadata": {},
     "output_type": "execute_result"
    }
   ],
   "source": [
    "2 ** -1"
   ]
  },
  {
   "cell_type": "code",
   "execution_count": 10,
   "id": "07d8792e",
   "metadata": {},
   "outputs": [
    {
     "data": {
      "text/plain": [
       "1"
      ]
     },
     "execution_count": 10,
     "metadata": {},
     "output_type": "execute_result"
    }
   ],
   "source": [
    "9999 ** 0"
   ]
  },
  {
   "cell_type": "markdown",
   "id": "e7eaa1f3",
   "metadata": {},
   "source": [
    "## 연산 순서와 괄호\n",
    "\n",
    "Python은 일반 수학의 연산 순서를 따른다.  \n",
    "즉, 곱셈과 나눗셈을 덧셈이나 뺼셈보다 먼저 계산하며 괄호가 있으면 괄호안을 먼저 계산한다.  \n",
    "하지만 파이썬은 소괄호(), 중괄호{}, 대괄호[]를 구분하지 않고 모두 소괄호 기호()를 사용한다.\n",
    "\n",
    "예를 들어 아래 수식을 파이썬 코드로 나타내면 다음과 같다.  \n",
    "\n",
    "### <center>$100\\times\\left[5\\times\\{10-(3-2\\times5)\\}+9\\right]$<center>"
   ]
  },
  {
   "cell_type": "code",
   "execution_count": 11,
   "id": "3231e3cf",
   "metadata": {},
   "outputs": [
    {
     "data": {
      "text/plain": [
       "9400"
      ]
     },
     "execution_count": 11,
     "metadata": {},
     "output_type": "execute_result"
    }
   ],
   "source": [
    "100 * (5 * (10 - (3 - 2 * 5)) + 9)"
   ]
  },
  {
   "cell_type": "markdown",
   "id": "56ac1c9b",
   "metadata": {},
   "source": [
    "## 부등식의 참과 거짓 계산\n",
    "\n",
    "Python에서는 부등식의 참과 거짓을 판단하는 연산도 할 수 있다.  \n",
    "참과 거짓은 'True'와 'False'라는 값으로 나타난다.  \n",
    "\n",
    "다음과 같은 기호를 통하여 부등식 연산을 할 수 있다.  \n",
    "\n",
    "- `>': 키보드 >\n",
    "- '<' : 키보드 <\n",
    "- '=' : 키보드 ==\n",
    "- '≠' : 키보드 !=\n",
    "- '≥' : 키보드 >=\n",
    "- '≤' : 키보드 <="
   ]
  },
  {
   "cell_type": "code",
   "execution_count": 12,
   "id": "f0e9a625",
   "metadata": {},
   "outputs": [
    {
     "data": {
      "text/plain": [
       "True"
      ]
     },
     "execution_count": 12,
     "metadata": {},
     "output_type": "execute_result"
    }
   ],
   "source": [
    "5 > 4"
   ]
  },
  {
   "cell_type": "code",
   "execution_count": 13,
   "id": "019a7e39",
   "metadata": {},
   "outputs": [
    {
     "data": {
      "text/plain": [
       "False"
      ]
     },
     "execution_count": 13,
     "metadata": {},
     "output_type": "execute_result"
    }
   ],
   "source": [
    "5 > 5"
   ]
  },
  {
   "cell_type": "code",
   "execution_count": 14,
   "id": "6bd79dfd",
   "metadata": {},
   "outputs": [
    {
     "data": {
      "text/plain": [
       "True"
      ]
     },
     "execution_count": 14,
     "metadata": {},
     "output_type": "execute_result"
    }
   ],
   "source": [
    "3 == 3"
   ]
  },
  {
   "cell_type": "code",
   "execution_count": 15,
   "id": "c96debe8",
   "metadata": {},
   "outputs": [
    {
     "data": {
      "text/plain": [
       "True"
      ]
     },
     "execution_count": 15,
     "metadata": {},
     "output_type": "execute_result"
    }
   ],
   "source": [
    "3 != 6"
   ]
  },
  {
   "cell_type": "code",
   "execution_count": 16,
   "id": "fe83e001",
   "metadata": {},
   "outputs": [
    {
     "data": {
      "text/plain": [
       "True"
      ]
     },
     "execution_count": 16,
     "metadata": {},
     "output_type": "execute_result"
    }
   ],
   "source": [
    "3 <= 5"
   ]
  },
  {
   "attachments": {
    "7c081034-9e87-4747-b0e5-b502fbac1830.png": {
     "image/png": "[encoded data removed]"
    }
   },
   "cell_type": "markdown",
   "id": "985662fb",
   "metadata": {},
   "source": [
    "## 부울리언 대수\n",
    "\n",
    "Python에서는 True와 False에 대해 & (AND) 라는 연산과 | (OR) 라는 부울리언 대수(Boolean algebra) 연산도 할 수 있다.\n",
    "\n",
    "- & (AND) 연산은 두 값이 모두 참일 때만 답이 참이 된다. 즉, 하나라도 거짓이면 답은 거짓이다.\n",
    "- | (OR) 연산은 두 값이 모두 거짓일 때만 답이 거짓이 된다. 즉, 하나라도 참이면 답은 참이다.\n",
    "\n",
    "![image.png](attachment:7c081034-9e87-4747-b0e5-b502fbac1830.png)"
   ]
  },
  {
   "cell_type": "code",
   "execution_count": 17,
   "id": "964e7a71",
   "metadata": {},
   "outputs": [
    {
     "data": {
      "text/plain": [
       "True"
      ]
     },
     "execution_count": 17,
     "metadata": {},
     "output_type": "execute_result"
    }
   ],
   "source": [
    "True & True"
   ]
  },
  {
   "cell_type": "code",
   "execution_count": 18,
   "id": "d02333e9",
   "metadata": {},
   "outputs": [
    {
     "data": {
      "text/plain": [
       "False"
      ]
     },
     "execution_count": 18,
     "metadata": {},
     "output_type": "execute_result"
    }
   ],
   "source": [
    "True & False"
   ]
  },
  {
   "cell_type": "code",
   "execution_count": 19,
   "id": "05162223",
   "metadata": {},
   "outputs": [
    {
     "data": {
      "text/plain": [
       "False"
      ]
     },
     "execution_count": 19,
     "metadata": {},
     "output_type": "execute_result"
    }
   ],
   "source": [
    "False & True"
   ]
  },
  {
   "cell_type": "code",
   "execution_count": 20,
   "id": "6838b099",
   "metadata": {},
   "outputs": [
    {
     "data": {
      "text/plain": [
       "False"
      ]
     },
     "execution_count": 20,
     "metadata": {},
     "output_type": "execute_result"
    }
   ],
   "source": [
    "False & False"
   ]
  },
  {
   "cell_type": "code",
   "execution_count": 21,
   "id": "1922539d",
   "metadata": {},
   "outputs": [
    {
     "data": {
      "text/plain": [
       "True"
      ]
     },
     "execution_count": 21,
     "metadata": {},
     "output_type": "execute_result"
    }
   ],
   "source": [
    "True | True"
   ]
  },
  {
   "cell_type": "code",
   "execution_count": 22,
   "id": "3c863fdd",
   "metadata": {},
   "outputs": [
    {
     "data": {
      "text/plain": [
       "True"
      ]
     },
     "execution_count": 22,
     "metadata": {},
     "output_type": "execute_result"
    }
   ],
   "source": [
    "True | False"
   ]
  },
  {
   "cell_type": "code",
   "execution_count": 23,
   "id": "32684ffa",
   "metadata": {},
   "outputs": [
    {
     "data": {
      "text/plain": [
       "True"
      ]
     },
     "execution_count": 23,
     "metadata": {},
     "output_type": "execute_result"
    }
   ],
   "source": [
    "False | True"
   ]
  },
  {
   "cell_type": "code",
   "execution_count": 24,
   "id": "3f5472ee",
   "metadata": {},
   "outputs": [
    {
     "data": {
      "text/plain": [
       "False"
      ]
     },
     "execution_count": 24,
     "metadata": {},
     "output_type": "execute_result"
    }
   ],
   "source": [
    "False | False"
   ]
  },
  {
   "cell_type": "markdown",
   "id": "23e07356",
   "metadata": {},
   "source": [
    "부등식 연산과 부울리언 대수를 결합한 연산도 할 수 있다."
   ]
  },
  {
   "cell_type": "code",
   "execution_count": 25,
   "id": "99e13158",
   "metadata": {},
   "outputs": [
    {
     "data": {
      "text/plain": [
       "True"
      ]
     },
     "execution_count": 25,
     "metadata": {},
     "output_type": "execute_result"
    }
   ],
   "source": [
    "(2 > 0) & (2 < 3)"
   ]
  },
  {
   "cell_type": "code",
   "execution_count": 26,
   "id": "f0a301cc",
   "metadata": {},
   "outputs": [
    {
     "data": {
      "text/plain": [
       "False"
      ]
     },
     "execution_count": 26,
     "metadata": {},
     "output_type": "execute_result"
    }
   ],
   "source": [
    "(2 > 2) | (2 == 3)"
   ]
  },
  {
   "cell_type": "markdown",
   "id": "928472e2",
   "metadata": {},
   "source": [
    "## 변수 사용하기\n",
    "\n",
    "어떤 값을 계속 사용하고 싶은 경우 그 값을 변수(variable)에 할당하여 사용할 수 있다.  \n",
    "변수에 값을 할당하기 위해서는 등호(=) 기호를 사용하고 변수명을 왼쪽에 쓰고 값을 오른쪽에 할당해주면 된다."
   ]
  },
  {
   "cell_type": "code",
   "execution_count": 27,
   "id": "7361284a",
   "metadata": {},
   "outputs": [
    {
     "data": {
      "text/plain": [
       "15"
      ]
     },
     "execution_count": 27,
     "metadata": {},
     "output_type": "execute_result"
    }
   ],
   "source": [
    "a = 3\n",
    "b = 5\n",
    "a * b"
   ]
  },
  {
   "cell_type": "code",
   "execution_count": 28,
   "id": "2cdbe958",
   "metadata": {},
   "outputs": [
    {
     "data": {
      "text/plain": [
       "False"
      ]
     },
     "execution_count": 28,
     "metadata": {},
     "output_type": "execute_result"
    }
   ],
   "source": [
    "a = 9\n",
    "(a > 0) & (a <=7)"
   ]
  },
  {
   "cell_type": "markdown",
   "id": "78232987",
   "metadata": {},
   "source": [
    "# 2. 부동소수점 실수 자료형"
   ]
  },
  {
   "cell_type": "markdown",
   "id": "e82f900f",
   "metadata": {},
   "source": [
    "## 정수와 실수 자료형\n",
    "\n",
    "Python에서는 정수(integer)뿐 아니라 소숫점을 포함하는 실수(real number)도 처리할 수 있다.  \n",
    "정수와 실수의 자료형의 구분은 소수점의 유무로 알 수 있다.  \n",
    "정수부가 0인 실수는 0을 생략 가능하다."
   ]
  },
  {
   "cell_type": "code",
   "execution_count": 29,
   "id": "9c1fba0f",
   "metadata": {},
   "outputs": [
    {
     "data": {
      "text/plain": [
       "1"
      ]
     },
     "execution_count": 29,
     "metadata": {},
     "output_type": "execute_result"
    }
   ],
   "source": [
    "1 # 정수"
   ]
  },
  {
   "cell_type": "code",
   "execution_count": 30,
   "id": "a2e88391",
   "metadata": {},
   "outputs": [
    {
     "data": {
      "text/plain": [
       "1.0"
      ]
     },
     "execution_count": 30,
     "metadata": {},
     "output_type": "execute_result"
    }
   ],
   "source": [
    "1.0 # 실수"
   ]
  },
  {
   "cell_type": "code",
   "execution_count": 37,
   "id": "15336ea6",
   "metadata": {},
   "outputs": [
    {
     "data": {
      "text/plain": [
       "0.1"
      ]
     },
     "execution_count": 37,
     "metadata": {},
     "output_type": "execute_result"
    }
   ],
   "source": [
    ".1 # .1 = 0.1"
   ]
  },
  {
   "cell_type": "markdown",
   "id": "9e7d1c6b",
   "metadata": {},
   "source": [
    "숫자 계산에서 계산에 쓰인 숫자 중 하나라도 실수가 있으면 계산결과는 실수로 자동변환 된다.  \n",
    "나눗셈 연산의 결과는 입력에 상관없이 항상 실수로 처리한다."
   ]
  },
  {
   "cell_type": "code",
   "execution_count": 32,
   "id": "c92ecf08",
   "metadata": {},
   "outputs": [
    {
     "data": {
      "text/plain": [
       "50"
      ]
     },
     "execution_count": 32,
     "metadata": {},
     "output_type": "execute_result"
    }
   ],
   "source": [
    "10 * 5  # 정수"
   ]
  },
  {
   "cell_type": "code",
   "execution_count": 33,
   "id": "9129f9d4",
   "metadata": {},
   "outputs": [
    {
     "data": {
      "text/plain": [
       "50.0"
      ]
     },
     "execution_count": 33,
     "metadata": {},
     "output_type": "execute_result"
    }
   ],
   "source": [
    "10.0 * 5  # 실수"
   ]
  },
  {
   "cell_type": "code",
   "execution_count": 34,
   "id": "e30fddce",
   "metadata": {},
   "outputs": [
    {
     "data": {
      "text/plain": [
       "2.0"
      ]
     },
     "execution_count": 34,
     "metadata": {},
     "output_type": "execute_result"
    }
   ],
   "source": [
    "10 / 5  # 실수"
   ]
  },
  {
   "cell_type": "markdown",
   "id": "d328ac89",
   "metadata": {},
   "source": [
    "정수와 실수는 컴퓨터 메모리에 저장되는 방식이 다르다.  \n",
    "이를 데이터의 자료형(type)이 다르다고 한다.  \n",
    "파이썬에서 정수는 int라는 정수 자료형으로 처리한다.  \n",
    "실수는 float라는 부동소수점(floating point number) 자료형으로 처리된다.  \n",
    "파이썬에서 데이터의 자료형을 알려면 **type** 명령을 사용한다."
   ]
  },
  {
   "cell_type": "code",
   "execution_count": 35,
   "id": "fed47a4f",
   "metadata": {},
   "outputs": [
    {
     "data": {
      "text/plain": [
       "int"
      ]
     },
     "execution_count": 35,
     "metadata": {},
     "output_type": "execute_result"
    }
   ],
   "source": [
    "type(10)"
   ]
  },
  {
   "cell_type": "code",
   "execution_count": 36,
   "id": "dde7de92",
   "metadata": {},
   "outputs": [
    {
     "data": {
      "text/plain": [
       "float"
      ]
     },
     "execution_count": 36,
     "metadata": {},
     "output_type": "execute_result"
    }
   ],
   "source": [
    "type(10.0)"
   ]
  },
  {
   "cell_type": "markdown",
   "id": "3e9f5d92",
   "metadata": {},
   "source": [
    "## 부동소수점 실수\n",
    "\n",
    "유효숫자e지수 라는 방법으로 부동소수점 형태를 직접 표현한다.  \n",
    "\n",
    "### <center>$유효숫자e지수=유효숫자 \\times 10^{지수}$<center>"
   ]
  },
  {
   "cell_type": "code",
   "execution_count": 38,
   "id": "2fd4a6be",
   "metadata": {},
   "outputs": [
    {
     "data": {
      "text/plain": [
       "10100.0"
      ]
     },
     "execution_count": 38,
     "metadata": {},
     "output_type": "execute_result"
    }
   ],
   "source": [
    "101e2  # 101e2 = 101.0 x 100 = 12300.0"
   ]
  },
  {
   "cell_type": "code",
   "execution_count": 39,
   "id": "021ddb6e",
   "metadata": {},
   "outputs": [
    {
     "data": {
      "text/plain": [
       "1.01"
      ]
     },
     "execution_count": 39,
     "metadata": {},
     "output_type": "execute_result"
    }
   ],
   "source": [
    "101e-2  # 101e-2 = 101.0 x 0.0.1 = 1.01"
   ]
  },
  {
   "cell_type": "code",
   "execution_count": 40,
   "id": "f66994bf",
   "metadata": {},
   "outputs": [
    {
     "data": {
      "text/plain": [
       "0.123456"
      ]
     },
     "execution_count": 40,
     "metadata": {},
     "output_type": "execute_result"
    }
   ],
   "source": [
    "123.456e-3  # 123.456e-3 = 123.456 x 0.001 = 0.123456"
   ]
  },
  {
   "cell_type": "markdown",
   "id": "403093a5",
   "metadata": {},
   "source": [
    "## 자료형 변환\n",
    "\n",
    "실수를 정수로 변환하거나 정수를 실수로 변환하려면 int 명령과 float 명령을 사용한다."
   ]
  },
  {
   "cell_type": "code",
   "execution_count": 41,
   "id": "e89640ab",
   "metadata": {},
   "outputs": [
    {
     "data": {
      "text/plain": [
       "1"
      ]
     },
     "execution_count": 41,
     "metadata": {},
     "output_type": "execute_result"
    }
   ],
   "source": [
    "int(1.0)  # 실수를 정수로 변환"
   ]
  },
  {
   "cell_type": "code",
   "execution_count": 42,
   "id": "5f061551",
   "metadata": {},
   "outputs": [
    {
     "data": {
      "text/plain": [
       "1"
      ]
     },
     "execution_count": 42,
     "metadata": {},
     "output_type": "execute_result"
    }
   ],
   "source": [
    "int(1.2)  # 실수를 정수로 변환"
   ]
  },
  {
   "cell_type": "code",
   "execution_count": 43,
   "id": "f7881e85",
   "metadata": {},
   "outputs": [
    {
     "data": {
      "text/plain": [
       "1"
      ]
     },
     "execution_count": 43,
     "metadata": {},
     "output_type": "execute_result"
    }
   ],
   "source": [
    "int(1.7)  # 실수를 정수로 변환"
   ]
  },
  {
   "cell_type": "code",
   "execution_count": 45,
   "id": "996ebe8b",
   "metadata": {
    "scrolled": true
   },
   "outputs": [
    {
     "data": {
      "text/plain": [
       "1.0"
      ]
     },
     "execution_count": 45,
     "metadata": {},
     "output_type": "execute_result"
    }
   ],
   "source": [
    "float(1)  # 정수를 실수로 변환"
   ]
  },
  {
   "cell_type": "markdown",
   "id": "5fb54426-e5f2-462f-a7ae-f1363b62519c",
   "metadata": {},
   "source": [
    "## NaN과 Inf\n",
    "\n",
    "IEEE 754 표준에 따른 부동소수점 자료형은 특별한 두 가지 값을 표현할 수 있다.  \n",
    "NaN(Not a Number)는 “숫자가 아닌 것”, Inf(Infinity)는 “무한대”를 뜻한다.  \n",
    "파이썬에서는 다음과 같은 명령으로 표현한다."
   ]
  },
  {
   "cell_type": "code",
   "execution_count": 46,
   "id": "72b69f5e-c275-4ee8-ac26-5a4576d0b5a9",
   "metadata": {},
   "outputs": [
    {
     "data": {
      "text/plain": [
       "nan"
      ]
     },
     "execution_count": 46,
     "metadata": {},
     "output_type": "execute_result"
    }
   ],
   "source": [
    "float(\"NaN\")"
   ]
  },
  {
   "cell_type": "code",
   "execution_count": 47,
   "id": "95269c6c-caf9-4a5a-bc10-b9454fad26a2",
   "metadata": {},
   "outputs": [
    {
     "data": {
      "text/plain": [
       "inf"
      ]
     },
     "execution_count": 47,
     "metadata": {},
     "output_type": "execute_result"
    }
   ],
   "source": [
    "float(\"Inf\")"
   ]
  },
  {
   "cell_type": "code",
   "execution_count": 48,
   "id": "ae16fddf-1a7e-4136-bd48-e71d7bb0a3d7",
   "metadata": {},
   "outputs": [
    {
     "data": {
      "text/plain": [
       "-inf"
      ]
     },
     "execution_count": 48,
     "metadata": {},
     "output_type": "execute_result"
    }
   ],
   "source": [
    "float(\"-Inf\")"
   ]
  },
  {
   "cell_type": "markdown",
   "id": "6c64e7b2-7610-43b5-a7a9-845afd4cc6d9",
   "metadata": {},
   "source": [
    "# 3. 파이썬으로 글자를 출력하기\n",
    "\n",
    "프로그래밍 언어에서는 글자를 문자열(string)이라고 부른다.  \n",
    "Python에서 문자열을 만들 때는 따옴표를 사용한다.  \n",
    "따옴표에는 큰 따옴표와 작은 따옴표가 있으며 시작 따옴표와 종료 따옴표만 같으면 어느 것을 사용해도 상관없다.\n",
    "\n",
    "문자열을 출력하려면 print 명령을 사용한다."
   ]
  },
  {
   "cell_type": "code",
   "execution_count": 49,
   "id": "fe5e0a2f-07c2-4ef0-995b-70c970fb927b",
   "metadata": {},
   "outputs": [
    {
     "name": "stdout",
     "output_type": "stream",
     "text": [
      "Hello!\n"
     ]
    }
   ],
   "source": [
    "print(\"Hello!\")"
   ]
  },
  {
   "cell_type": "code",
   "execution_count": 50,
   "id": "10799e40-c07c-4a4d-9538-e29b810c677d",
   "metadata": {},
   "outputs": [
    {
     "name": "stdout",
     "output_type": "stream",
     "text": [
      "한글도 쓸 수 있어요.\n"
     ]
    }
   ],
   "source": [
    "print('한글도 쓸 수 있어요.')"
   ]
  },
  {
   "cell_type": "markdown",
   "id": "4eda6dba-6b2c-44f4-9f21-baddf93db858",
   "metadata": {},
   "source": [
    "## 문자열 연산\n",
    "\n",
    "문자열도 숫자처럼 덧셈과 곱셈 연산을 할 수 있다. 덧셈 연산은 두 문자열을 붙이고 곱셈 연산은 문자열을 반복한다.\n"
   ]
  },
  {
   "cell_type": "code",
   "execution_count": 52,
   "id": "3fce4ec1-903c-45ba-9f4b-4f0887cb0a31",
   "metadata": {},
   "outputs": [
    {
     "name": "stdout",
     "output_type": "stream",
     "text": [
      "내 이름은 KADaP입니다.\n"
     ]
    }
   ],
   "source": [
    "print(\"내 이름은 \" + \"KADaP\" + \"입니다.\")"
   ]
  },
  {
   "cell_type": "code",
   "execution_count": 53,
   "id": "71f95886-ba5b-424e-a1ec-6335ce58c2d3",
   "metadata": {},
   "outputs": [
    {
     "name": "stdout",
     "output_type": "stream",
     "text": [
      "KADaP*KADaP*KADaP*KADaP*KADaP*KADaP*KADaP*KADaP*KADaP*KADaP*\n"
     ]
    }
   ],
   "source": [
    "print(\"KADaP*\" * 10)"
   ]
  },
  {
   "cell_type": "markdown",
   "id": "50e98c74-c4e1-4f7b-a723-ef7ba8ce6b52",
   "metadata": {},
   "source": [
    "## 숫자를 문자열로 바꾸기\n",
    "\n",
    "숫자를 문자열과 더하려면 str 명령을 써서 숫자를 문자열 자료형으로 바꾸어야 한다"
   ]
  },
  {
   "cell_type": "code",
   "execution_count": 54,
   "id": "e8ff1cf6-80c7-4701-9d69-f873bdce0fb0",
   "metadata": {},
   "outputs": [
    {
     "name": "stdout",
     "output_type": "stream",
     "text": [
      "별표를 10번 출력합니다.\n",
      "**********\n"
     ]
    }
   ],
   "source": [
    "n = 10\n",
    "print(\"별표를 \" + str(n) + \"번 출력합니다.\")\n",
    "print(\"*\" * n)"
   ]
  },
  {
   "cell_type": "markdown",
   "id": "9e022d56-3701-4edb-9cd7-554bddc1b939",
   "metadata": {},
   "source": [
    "## 한 줄 띄우기\n",
    "\n",
    "한 번에 호출할 때마다 한 줄씩 출력되는 것이 print 명령의 특징이다.  \n",
    "만약 한 번만 print 명령을 사용하면서 여러 줄에 걸쳐 출력하고 싶다면, 문자열에 \\n을 넣어야한다해."
   ]
  },
  {
   "cell_type": "code",
   "execution_count": 55,
   "id": "30c4e0db-c203-4d0b-b173-c2c1be2e3b91",
   "metadata": {},
   "outputs": [
    {
     "name": "stdout",
     "output_type": "stream",
     "text": [
      "하나 올리고\n",
      "하나 더 놔.\n"
     ]
    }
   ],
   "source": [
    "print(\"하나 올리고\\n하나 더 놔.\")"
   ]
  },
  {
   "cell_type": "markdown",
   "id": "c0d9f5a5-048b-4ebf-8658-0c741a557127",
   "metadata": {},
   "source": [
    "## 문자열 값을 가지는 변수\n",
    "\n",
    "변수에는 숫자뿐만 아니라 문자열도 넣을 수 있다.\n",
    "\n"
   ]
  },
  {
   "cell_type": "code",
   "execution_count": 56,
   "id": "8380e209-5a9b-4f31-9047-4c44500e68f4",
   "metadata": {},
   "outputs": [
    {
     "name": "stdout",
     "output_type": "stream",
     "text": [
      "내 이름은 KADaP입니다.\n"
     ]
    }
   ],
   "source": [
    "name = \"KADaP\"\n",
    "print(\"내 이름은 \" + name + \"입니다.\")"
   ]
  },
  {
   "cell_type": "code",
   "execution_count": 32,
   "id": "5aad8ddb-9466-47a2-a9c8-976735c151df",
   "metadata": {},
   "outputs": [
    {
     "name": "stdout",
     "output_type": "stream",
     "text": [
      "내 이름은 KADaP입니다.\n"
     ]
    }
   ],
   "source": [
    "name = \"KADaP\"\n",
    "print(f\"내 이름은 {name}입니다.\")"
   ]
  },
  {
   "cell_type": "markdown",
   "id": "87c038d4-48e8-44db-8259-6ed7e7fb33a5",
   "metadata": {},
   "source": [
    "# 4. 파이썬의 문자열 형식화\n",
    "\n",
    "파이썬은 복잡한 문자열 출력을 위해 문자열 형식화(string formatting)를 지원한다.\n",
    "문자열 형식화에는 % 기호와 format 메서드, 그리고 f 문자열을 사용하는 방법이 있다야.\n",
    "\n",
    "여기에서는 % 기호를 사용한 방식을 설명한다."
   ]
  },
  {
   "cell_type": "markdown",
   "id": "63541678-d34a-49c8-a0c1-8bcfb762ed21",
   "metadata": {},
   "source": [
    "## % 기호를 사용한 문자열 형식화\n",
    "\n",
    "문자열 뒤에 % 기호를 붙이고 그 뒤에 다른 값을 붙이면 뒤에 붙은 값이 문자열 안으로 들어간다.\n",
    "\n",
    ">```python\n",
    ">\"문자열\" % 값\n",
    ">```\n",
    "\n",
    "이 때 문자열의 어느 위치에 값이 들어가는지를 표시하기 위해 문자열 안에 % 기호로 시작하는 형식지정 문자열(format specification string)을 붙인다. 대표적인 형식지정 문자열은 다음과\n",
    "\n",
    "| 형식지정 문자열 | 의미 |\n",
    "|:---:|:---:|\n",
    "| %s | 문자열 |\n",
    "| %d | 정수 |\n",
    "| %f | 부동소수점 실수 |실수 | 같다.수 | 같다.\n"
   ]
  },
  {
   "cell_type": "code",
   "execution_count": 57,
   "id": "783b3a42-0ec4-4ed8-b21c-f57eb60fc526",
   "metadata": {},
   "outputs": [
    {
     "data": {
      "text/plain": [
       "'내 이름은 KADaP입니다.'"
      ]
     },
     "execution_count": 57,
     "metadata": {},
     "output_type": "execute_result"
    }
   ],
   "source": [
    "\"내 이름은 %s입니다.\" % \"KADaP\""
   ]
  },
  {
   "cell_type": "code",
   "execution_count": 58,
   "id": "629fef92-ab1d-47d8-acf8-0544bd8c0971",
   "metadata": {},
   "outputs": [
    {
     "data": {
      "text/plain": [
       "'나는 2살 입니다.'"
      ]
     },
     "execution_count": 58,
     "metadata": {},
     "output_type": "execute_result"
    }
   ],
   "source": [
    "\"나는 %d살 입니다.\" % 2"
   ]
  },
  {
   "cell_type": "code",
   "execution_count": 59,
   "id": "e192135f-794c-48c4-9a60-96611509d353",
   "metadata": {},
   "outputs": [
    {
     "data": {
      "text/plain": [
       "'원주율의 값은 3.141592입니다.'"
      ]
     },
     "execution_count": 59,
     "metadata": {},
     "output_type": "execute_result"
    }
   ],
   "source": [
    "\"원주율의 값은 %f입니다.\" % 3.141592"
   ]
  },
  {
   "cell_type": "markdown",
   "id": "172bc630-d60a-404f-8787-7f2072d74da1",
   "metadata": {},
   "source": [
    "만약 여러개의 값을 문자열 안에 넣어야 한다면 % 기호 뒤에 있는 값을 소괄호로 감싸야 한다."
   ]
  },
  {
   "cell_type": "code",
   "execution_count": 60,
   "id": "1e56570b-3de5-4cad-839c-cf86712eb17c",
   "metadata": {},
   "outputs": [
    {
     "data": {
      "text/plain": [
       "'2 곱하기 3은 6이다.'"
      ]
     },
     "execution_count": 60,
     "metadata": {},
     "output_type": "execute_result"
    }
   ],
   "source": [
    "\"%d 곱하기 %d은 %d이다.\" % (2, 3, 6)"
   ]
  },
  {
   "cell_type": "code",
   "execution_count": 61,
   "id": "6843d95b-225f-41d8-beac-c21352d9a285",
   "metadata": {},
   "outputs": [
    {
     "data": {
      "text/plain": [
       "'철수의 수학 과목 점수는 100점이다.'"
      ]
     },
     "execution_count": 61,
     "metadata": {},
     "output_type": "execute_result"
    }
   ],
   "source": [
    "\"%s의 %s 과목 점수는 %d점이다.\" % (\"철수\", \"수학\", 100)"
   ]
  },
  {
   "cell_type": "code",
   "execution_count": 62,
   "id": "d733bf3c-10a8-4d2a-8727-2c06e2419ee0",
   "metadata": {},
   "outputs": [
    {
     "name": "stdout",
     "output_type": "stream",
     "text": [
      "철수의 수학 과목 점수는 100점이다.\n"
     ]
    }
   ],
   "source": [
    "print(\"%s의 %s 과목 점수는 %d점이다.\" % (\"철수\", \"수학\", 100))"
   ]
  },
  {
   "cell_type": "markdown",
   "id": "a8175846-e73a-4ea4-9223-c55a77211181",
   "metadata": {},
   "source": [
    "# 5. 파이썬 조건문 기초"
   ]
  },
  {
   "cell_type": "markdown",
   "id": "59efc438-7720-44b8-ab0f-144bcddf9ad7",
   "metadata": {},
   "source": [
    "## if ~ else 명령\n",
    "\n",
    ">```python\n",
    ">if 참 또는 거짓을 가지는 값:\n",
    ">    조건이 참일 때 실행되는 명령들\n",
    ">else:\n",
    ">    조건이 거짓일 때 실행되는 명령들\n",
    ">```"
   ]
  },
  {
   "cell_type": "code",
   "execution_count": 63,
   "id": "73a6801f-59eb-4f52-89ff-8fc43e0db024",
   "metadata": {},
   "outputs": [
    {
     "name": "stdout",
     "output_type": "stream",
     "text": [
      "홀수\n"
     ]
    }
   ],
   "source": [
    "a = 1\n",
    "\n",
    "if a % 2 == 0:\n",
    "    print(\"짝수\")\n",
    "else:\n",
    "    print(\"홀수\")"
   ]
  },
  {
   "cell_type": "code",
   "execution_count": 64,
   "id": "1b499338-2c81-4195-b2bd-a8f6c79f8783",
   "metadata": {},
   "outputs": [
    {
     "name": "stdout",
     "output_type": "stream",
     "text": [
      "2자리 수의 짝수가 아니다.\n"
     ]
    }
   ],
   "source": [
    "b = 55\n",
    "\n",
    "if (b >= 10) & (b < 100) & (b % 2 == 0):\n",
    "    print(\"2자리 수의 짝수이다.\")\n",
    "else:\n",
    "    print(\"2자리 수의 짝수가 아니다.\")"
   ]
  },
  {
   "cell_type": "markdown",
   "id": "a9520d28-c82e-405a-bb48-f0e7bfa26777",
   "metadata": {},
   "source": [
    "## if ~ elif ~ else 명령\n",
    "\n",
    ">```python\n",
    ">if 조건1:\n",
    ">    조건1이 참일 때 실행되는 명령\n",
    ">elif 조건2:\n",
    ">    조건1이 거짓이고 조건2가 참일 때 실행되는 명령\n",
    ">elif 조건3:\n",
    ">    조건1과 조건2가 거짓이고 조건3가 참일 때 실행되는 명령\n",
    ">\n",
    ">...(생략)...\n",
    ">\n",
    ">\n",
    ">else:\n",
    ">    지금까지의 어떤 조건도 참이 아니면 실행되는 명령\n",
    ">```\n",
    "\n",
    "만약 10문제를 보는 시험에서 8개 이상을 맞으면 성적이 “A”, 8개 미만이고 5개 이상을 맞으면 “B”, ” 5개 미만을 맞으면 “C”가 된다면 점수는 다음과 같이 계산할 수 있다."
   ]
  },
  {
   "cell_type": "code",
   "execution_count": 65,
   "id": "9bd135bb-0eb9-4bc5-9561-f285091b3071",
   "metadata": {},
   "outputs": [
    {
     "name": "stdout",
     "output_type": "stream",
     "text": [
      "B\n"
     ]
    }
   ],
   "source": [
    "c = 6 # 맞은 문제의 갯수\n",
    "\n",
    "if c >= 8: # 조건1\n",
    "    print(\"A\") # 조건1이 참일 때 실행되는 명령\n",
    "elif c >= 5: # 조건2\n",
    "    print(\"B\") # 조건2가 참일 때 실행되는 명령\n",
    "else:\n",
    "    print(\"C\") # 지금까지의 어떤 조건도 참이 아니면 실행되는 명령"
   ]
  },
  {
   "cell_type": "markdown",
   "id": "95f08535-3cf1-43b2-8ff3-5c04379dddf8",
   "metadata": {},
   "source": [
    "# 중첩 조건문\n",
    "\n",
    ">```python\n",
    ">if 조건1:\n",
    ">    조건1이 참일 때 실행되는 명령\n",
    ">    if 조건2:\n",
    ">        조건1과 조건2가 모두 참일 때 실행되는 명령\n",
    ">    else:\n",
    ">        조건1은 참이고 조건2는 거짓일 때 실행되는 명령\n",
    ">else:\n",
    ">    조건1이 거짓일 때 실행되는 명령\n",
    ">```\n",
    "\n",
    "중학교에서 팔굽혀펴기 시험을 보는데 남자는 10번 이상을 해야 합격(Pass)이고 아니면 불합격(Fail)이다.  \n",
    "여자는 5번 이상을 해야 합격이라면 다음과 같이 프로그램을 만들 수 있다."
   ]
  },
  {
   "cell_type": "code",
   "execution_count": 66,
   "id": "da842261-aa3f-4d89-a592-e028be307bda",
   "metadata": {},
   "outputs": [
    {
     "name": "stdout",
     "output_type": "stream",
     "text": [
      "Pass\n"
     ]
    }
   ],
   "source": [
    "sex = \"boy\" # 성별\n",
    "pushup = 12 # 팔굽혀펴기를 한 갯수\n",
    "\n",
    "if sex == \"boy\": # 조건1\n",
    "    if pushup >= 10: # 조건2\n",
    "        grade = \"Pass\" # 조건1과 조건2가 모두 참일 때 실행되는 명령\n",
    "    else:\n",
    "        grade = \"Fail\" # 조건1은 참이고 조건2는 거짓일 때 실행되는 명령\n",
    "else:\n",
    "    # 조건1이 거짓일 때 실행되는 명령\n",
    "    if pushup >= 10: # 조건3\n",
    "        grade = \"Pass\" # 조건1이 거짓이고 조건3이 모두 참일 때 실행되는 명령\n",
    "    else:\n",
    "        grade = \"Fail\" # 조건1과 조건3이 모두 거짓일 때 실행되는 명령\n",
    "\n",
    "print(grade) # 성정 출력"
   ]
  },
  {
   "cell_type": "markdown",
   "id": "9f687248-7bb8-4aeb-8f6f-5bb0653d898f",
   "metadata": {},
   "source": [
    "# 6. 파이썬 함수\n",
    "\n",
    "함수(function)는 입력을 받아 그 입력에 해당하는 출력을 반환(return)하는 기계와 같다.  \n",
    "예를 들어 500원을 넣으면 생수가 나오고, 1000원을 넣으면 콜라가 나오는 자판기는 다음과 같은 함수이다.\n",
    "\n",
    "- f(500) = \"생수\"\n",
    "- \n",
    "f(1000) = \"콜라\n",
    "\n",
    "Python에서 함수는 다음과 같이 선언된다.\n",
    "\n",
    ">```python\n",
    ">def 함수이름(입력변수이름):\n",
    ">     출력변수를 만드는 명\n",
    ">      return 출력변수\n",
    ">```\n",
    "\n",
    "예를 들어 숫자 x를 입력하면 두 배가 되도록 하는 함수는 다음과 같다.\n",
    "이름\""
   ]
  },
  {
   "cell_type": "code",
   "execution_count": 67,
   "id": "cc2fd1e4-0276-4d90-95f7-6e5a199647fd",
   "metadata": {},
   "outputs": [],
   "source": [
    "def twotimes(x):\n",
    "    y = 2 * x\n",
    "    return y"
   ]
  },
  {
   "cell_type": "code",
   "execution_count": 68,
   "id": "2b064d73-1a62-4e45-88d0-7e834e1b3aee",
   "metadata": {},
   "outputs": [
    {
     "data": {
      "text/plain": [
       "4"
      ]
     },
     "execution_count": 68,
     "metadata": {},
     "output_type": "execute_result"
    }
   ],
   "source": [
    "twotimes(2)"
   ]
  },
  {
   "cell_type": "code",
   "execution_count": 69,
   "id": "22ff9615-3788-4a9c-95d9-1191d194ebd9",
   "metadata": {},
   "outputs": [
    {
     "data": {
      "text/plain": [
       "20"
      ]
     },
     "execution_count": 69,
     "metadata": {},
     "output_type": "execute_result"
    }
   ],
   "source": [
    "twotimes(10)"
   ]
  },
  {
   "cell_type": "markdown",
   "id": "60f33c54-3ce3-468e-a14d-e3195665a9ca",
   "metadata": {},
   "source": [
    "# 입력이 여러 개인 함수\n",
    "\n",
    "함수의 입력은 한 개가 아니라 여러 개가 되어도 상관없다. 입력 변수가 여러개이면 쉼표, 영어로 comma 를 사용하여 함수를 정의한다.\n",
    "\n",
    ">```python\n",
    ">def 함수이름(입력변수1, 입력변수2, 입력변수3):\n",
    ">   출력변수를 만드는 명령\n",
    ">   return 출력변수이름\n",
    ">```"
   ]
  },
  {
   "cell_type": "code",
   "execution_count": 70,
   "id": "bdcb292d-fc3f-4cde-9b4e-bdf32f709276",
   "metadata": {},
   "outputs": [],
   "source": [
    "def add(x, y):\n",
    "    return x + y"
   ]
  },
  {
   "cell_type": "code",
   "execution_count": 71,
   "id": "5408c8d4-67d9-48ec-a80b-3193f8e41c8e",
   "metadata": {},
   "outputs": [
    {
     "data": {
      "text/plain": [
       "3"
      ]
     },
     "execution_count": 71,
     "metadata": {},
     "output_type": "execute_result"
    }
   ],
   "source": [
    "add(1, 2)"
   ]
  },
  {
   "cell_type": "code",
   "execution_count": 72,
   "id": "0e3ec1d3-c93e-48c1-b4f0-11ad47ac9e44",
   "metadata": {},
   "outputs": [],
   "source": [
    "def sum(a, b, c):\n",
    "    s = a + b + c\n",
    "    return s"
   ]
  },
  {
   "cell_type": "code",
   "execution_count": 73,
   "id": "6a2585c8-b46b-42bc-9e03-561f82795f20",
   "metadata": {
    "scrolled": true
   },
   "outputs": [
    {
     "data": {
      "text/plain": [
       "6"
      ]
     },
     "execution_count": 73,
     "metadata": {},
     "output_type": "execute_result"
    }
   ],
   "source": [
    "sum(1, 2, 3)"
   ]
  },
  {
   "cell_type": "markdown",
   "id": "b45d8917-426b-4955-a15f-da4dcad13adf",
   "metadata": {},
   "source": [
    "# 7. 파이썬 for 반복문\n",
    "\n",
    "다음과 같이 문자열을 반복해서 출력해야 하는 경우를 생각해보자.\n"
   ]
  },
  {
   "cell_type": "code",
   "execution_count": 74,
   "id": "97f643ec-f59b-44f8-8ea4-17925dc86f89",
   "metadata": {},
   "outputs": [
    {
     "name": "stdout",
     "output_type": "stream",
     "text": [
      "=1=\n",
      "=2=\n",
      "=3=\n",
      "=4=\n",
      "=5=\n",
      "=6=\n",
      "=7=\n",
      "=8=\n",
      "=9=\n"
     ]
    }
   ],
   "source": [
    "print(\"=1=\")\n",
    "print(\"=2=\")\n",
    "print(\"=3=\")\n",
    "print(\"=4=\")\n",
    "print(\"=5=\")\n",
    "print(\"=6=\")\n",
    "print(\"=7=\")\n",
    "print(\"=8=\")\n",
    "print(\"=9=\")"
   ]
  },
  {
   "cell_type": "markdown",
   "id": "0a0349b7-e0b3-4d16-9147-c7172fd5fb95",
   "metadata": {},
   "source": [
    "## for 반복문\n",
    "\n",
    "Python에서는 이렇게 명령이 반복될 수 있게 하는 for 반복문(loop)을 사용할 수 있다.  \n",
    "\n",
    ">```python\n",
    ">for 카운터변수 in range(반복횟수):\n",
    ">    반복해서 실행할 명령\n",
    ">```\n",
    "\n",
    "이 때 반복횟수는 10, 100과 같은 양의 정수이어야 한다.  "
   ]
  },
  {
   "cell_type": "markdown",
   "id": "48e67409-1581-4a31-9adb-d3bc4bd66a03",
   "metadata": {},
   "source": [
    "## 카운터 변수(counter variable)\n",
    "\n",
    "현재 몇 번째 반복인지를 알려주는 변수를 카운터 변수(counter variable)이라고 한다.  \n",
    "카운터 변수의 이름은 아무거나 사용할 수 있다.  \n",
    "하지만 전문 프로그래머들은 보통 i 또는 j 라는 변수 이름을 자주 사용한다."
   ]
  },
  {
   "cell_type": "code",
   "execution_count": 75,
   "id": "7a9b803e-c62a-4de1-86c9-df60ddcd4849",
   "metadata": {},
   "outputs": [
    {
     "name": "stdout",
     "output_type": "stream",
     "text": [
      "=\n",
      "=\n",
      "=\n",
      "=\n",
      "=\n",
      "=\n",
      "=\n",
      "=\n",
      "=\n",
      "=\n"
     ]
    }
   ],
   "source": [
    "for i in range(10):\n",
    "    print(\"=\")"
   ]
  },
  {
   "cell_type": "code",
   "execution_count": 76,
   "id": "57c589bf-dcf5-4a8e-ae34-23d9a9db92b1",
   "metadata": {},
   "outputs": [
    {
     "name": "stdout",
     "output_type": "stream",
     "text": [
      "0\n",
      "1\n",
      "2\n",
      "3\n",
      "4\n",
      "5\n",
      "6\n",
      "7\n",
      "8\n",
      "9\n"
     ]
    }
   ],
   "source": [
    "for i in range(10):\n",
    "    print(i)"
   ]
  },
  {
   "cell_type": "code",
   "execution_count": 77,
   "id": "530d3d88-b8b7-485e-a24f-b1e181467469",
   "metadata": {},
   "outputs": [
    {
     "name": "stdout",
     "output_type": "stream",
     "text": [
      "=0=\n",
      "=1=\n",
      "=2=\n",
      "=3=\n",
      "=4=\n",
      "=5=\n",
      "=6=\n",
      "=7=\n",
      "=8=\n",
      "=9=\n"
     ]
    }
   ],
   "source": [
    "for i in range(10):\n",
    "    print(\"=\" + str(i) + \"=\")"
   ]
  },
  {
   "cell_type": "markdown",
   "id": "c820634b-db77-4537-8420-bbf109b2c0af",
   "metadata": {},
   "source": [
    "그런데 시작이 0이라서 우리가 원하는 결과와 달라졌다. 그래서 프로그램을 다음과 같이 고쳐야 한다."
   ]
  },
  {
   "cell_type": "code",
   "execution_count": 78,
   "id": "2fdd0aa5-70f6-4b77-89c7-03176c981853",
   "metadata": {},
   "outputs": [
    {
     "name": "stdout",
     "output_type": "stream",
     "text": [
      "=1=\n",
      "=2=\n",
      "=3=\n",
      "=4=\n",
      "=5=\n",
      "=6=\n",
      "=7=\n",
      "=8=\n",
      "=9=\n"
     ]
    }
   ],
   "source": [
    "for i in range(9):\n",
    "    print(\"=\" + str(i + 1) + \"=\")"
   ]
  },
  {
   "cell_type": "markdown",
   "id": "73cc835e-d0f2-4516-8e53-f6edb059938b",
   "metadata": {},
   "source": [
    "카운터 변수는 항상 0부터 시작하므로 1부터 시작하는 것처럼 보이게 하려면 1을 더해주어야 한다.  \n",
    "또 1부터 9까지 9번만 실행하면 되기 때문에 반복횟수도 10이 아니라 9가 되었다."
   ]
  },
  {
   "cell_type": "markdown",
   "id": "51cca6ad-6aec-4c9d-95dc-55bc43f777d8",
   "metadata": {},
   "source": [
    "## 중첩 for 반복문\n",
    "\n",
    "때로는 반복문 안에서 다시 반복문을 실행해야 할 때가 있을 수 있다.\n",
    "\n",
    ">```python\n",
    ">0 1 2 3 \n",
    ">1 2 3 4 \n",
    ">2 3 4 5 \n",
    ">3 4 5 6 \n",
    ">```\n",
    "\n",
    "다음과 같이 for 반복문 안에 다시 for 반복문을 사용하는 중첩 반복문(nested loop)를 사용할 수 있다."
   ]
  },
  {
   "cell_type": "code",
   "execution_count": 79,
   "id": "6885948a-0c87-4faf-a9f6-c86d4c6ef070",
   "metadata": {},
   "outputs": [
    {
     "name": "stdout",
     "output_type": "stream",
     "text": [
      "0 1 2 3 \n",
      "1 2 3 4 \n",
      "2 3 4 5 \n",
      "3 4 5 6 \n"
     ]
    }
   ],
   "source": [
    "for i in range(4):\n",
    "    for j in range(4):\n",
    "        print(i + j, end=\" \")\n",
    "    print()"
   ]
  },
  {
   "cell_type": "markdown",
   "id": "2c453825-e4ec-47f5-b64d-4a4dc9ecd76e",
   "metadata": {},
   "source": [
    "만약 위 출력에서 짝수만을 출력하려한다면 다음과 같이 for문 안에 if 조건문을 추가한다."
   ]
  },
  {
   "cell_type": "code",
   "execution_count": 80,
   "id": "555012e6-3b5f-4a57-b464-ac26a882323c",
   "metadata": {},
   "outputs": [
    {
     "name": "stdout",
     "output_type": "stream",
     "text": [
      "0 2 \n",
      "2 4 \n",
      "2 4 \n",
      "4 6 \n"
     ]
    }
   ],
   "source": [
    "for i in range(4):\n",
    "    for j in range(4):\n",
    "        if (i + j) % 2 == 0:\n",
    "            print(i + j, end=\" \")\n",
    "    print()"
   ]
  },
  {
   "cell_type": "markdown",
   "id": "8172c035-dd4e-481a-82fa-318d4b417a7b",
   "metadata": {},
   "source": [
    "# 8. 여러 개의 자료를 한 변수에 담기\n",
    "\n",
    "지금까지는 하나의 변수에 하나의 자료를 저장했다.  \n",
    "그러나 파이썬에서는 하나의 변수에 여러 개의 자료를 한꺼번에 저장하고 필요한 때 꺼내 쓸 수도 있다.  \n",
    "파이썬에서 하나의 변수에 여러 개의 자료를 저장하고 쓰는 데는 크게 두 가지 방법을 사용한다.\n",
    "\n",
    "- 여러 개의 자료가 순서가 있을 때는 **리스트(list)** 자료형 사용\n",
    "- 여러 개의 자료가 이름이 있을 때는 **딕셔너리(dictionary)** 자료형 사용"
   ]
  },
  {
   "cell_type": "markdown",
   "id": "7d749536-3fe6-464e-b8d1-8d5663711032",
   "metadata": {},
   "source": [
    "## 자료의 순서만 가지는 리스트 자료형\n",
    "\n",
    "리스트 자료형에는 여러개의 자료를 순서에 따라 저장할 수 있다. 리스트 자료형 변수는 다음처럼 만든다.\n",
    "\n",
    "> 리스트변수 = [자료1, 자료2, 자료3]\n"
   ]
  },
  {
   "cell_type": "code",
   "execution_count": 81,
   "id": "62f1c39a-b503-46af-9586-f2c6ce26ec4e",
   "metadata": {},
   "outputs": [
    {
     "name": "stdout",
     "output_type": "stream",
     "text": [
      "[43, 56, 90]\n"
     ]
    }
   ],
   "source": [
    "x = [43, 56, 90]\n",
    "print(x)"
   ]
  },
  {
   "cell_type": "markdown",
   "id": "d4c8e782-1eaf-487d-beab-50bb8f331728",
   "metadata": {},
   "source": [
    "## 인덱싱\n",
    "\n",
    "리스트 자료형 변수에서 특정한 자료를 꺼내려면 인덱싱(indexing)이라는 연산을 사용한다.\n",
    "\n",
    "> 리스트변수[인덱스]"
   ]
  },
  {
   "cell_type": "code",
   "execution_count": 82,
   "id": "590b1860-d7b4-48fe-b35e-6bfcb4e2b5c7",
   "metadata": {},
   "outputs": [
    {
     "data": {
      "text/plain": [
       "43"
      ]
     },
     "execution_count": 82,
     "metadata": {},
     "output_type": "execute_result"
    }
   ],
   "source": [
    "x[0]"
   ]
  },
  {
   "cell_type": "code",
   "execution_count": 83,
   "id": "2d75c28f-bc6a-492b-9ff3-ce63e416a022",
   "metadata": {},
   "outputs": [
    {
     "data": {
      "text/plain": [
       "56"
      ]
     },
     "execution_count": 83,
     "metadata": {},
     "output_type": "execute_result"
    }
   ],
   "source": [
    "x[1]"
   ]
  },
  {
   "cell_type": "code",
   "execution_count": 84,
   "id": "ca29f4e7-717b-4839-9b53-5deb68262ead",
   "metadata": {},
   "outputs": [
    {
     "data": {
      "text/plain": [
       "66.5"
      ]
     },
     "execution_count": 84,
     "metadata": {},
     "output_type": "execute_result"
    }
   ],
   "source": [
    "(x[0] + x[2]) / 2"
   ]
  },
  {
   "cell_type": "markdown",
   "id": "dc6e7f29-07c4-4451-bfce-00e99d219513",
   "metadata": {},
   "source": [
    "## 자료의 이름만 가지는 딕셔너리 자료형\n",
    "\n",
    "딕셔너리 자료형에는 여러개의 자료를 이름을 붙여서 저장할 수 있다.  \n",
    "딕셔너리 자료형 변수는 다음과 같이 만든다\n",
    "\n",
    "> 딕셔너리변수 = {자료이름1: 자료값1, 자료이름2: 자료값2, 자료이름3: 자료값3}\n",
    "\n",
    "파이썬에서는 자료의 이름을 키(key)라고 하고 자료의 값을 값(value)라고 한다.\n"
   ]
  },
  {
   "cell_type": "code",
   "execution_count": 85,
   "id": "b0425917-a6b0-4740-85ea-55c80df06dbf",
   "metadata": {},
   "outputs": [],
   "source": [
    "a = {\"math\": 88, \"english\": 67, \"history\": 100}\n",
    "b = {\"수학\": 88, \"영어\": 67, \"역사\": 100}"
   ]
  },
  {
   "cell_type": "code",
   "execution_count": 86,
   "id": "75191e12-abd9-4659-8264-93469557b009",
   "metadata": {},
   "outputs": [
    {
     "data": {
      "text/plain": [
       "88"
      ]
     },
     "execution_count": 86,
     "metadata": {},
     "output_type": "execute_result"
    }
   ],
   "source": [
    "a[\"math\"]"
   ]
  },
  {
   "cell_type": "code",
   "execution_count": 87,
   "id": "0c26ba64-a48e-48ae-a5be-0453c9e94a9d",
   "metadata": {},
   "outputs": [
    {
     "data": {
      "text/plain": [
       "88"
      ]
     },
     "execution_count": 87,
     "metadata": {},
     "output_type": "execute_result"
    }
   ],
   "source": [
    "b[\"수학\"]"
   ]
  },
  {
   "cell_type": "code",
   "execution_count": 88,
   "id": "331d954e-cc93-4c9a-ac30-c50dc65c704b",
   "metadata": {},
   "outputs": [
    {
     "data": {
      "text/plain": [
       "85.0"
      ]
     },
     "execution_count": 88,
     "metadata": {},
     "output_type": "execute_result"
    }
   ],
   "source": [
    "(b[\"수학\"] + b[\"영어\"] + b[\"역사\"]) / 3"
   ]
  },
  {
   "cell_type": "markdown",
   "id": "1ceb67e2-b026-4feb-8697-8a5c8c2974d6",
   "metadata": {},
   "source": [
    "## 리스트와 딕셔너리에 담을수 있는 자료의 자료형\n",
    "\n",
    "리스트 변수에는 자료형이 같은 자료만 담을 수 있는 것은 아니고 자료형이 다른 자료들도 담을 수 있다.  \n",
    "예를 들어 정수형 자료와 실수형 자료, 그리고 문자열 자료를 한 리스트 변수에 넣을 수도 있다."
   ]
  },
  {
   "cell_type": "code",
   "execution_count": 89,
   "id": "5f6b30cd-7016-4cdc-b0e7-a4723804cba9",
   "metadata": {},
   "outputs": [],
   "source": [
    "c = [1, 3.14, \"pi\"]"
   ]
  },
  {
   "cell_type": "code",
   "execution_count": 90,
   "id": "585a4099-e349-420d-9d7f-229e5cc57e30",
   "metadata": {},
   "outputs": [
    {
     "data": {
      "text/plain": [
       "1"
      ]
     },
     "execution_count": 90,
     "metadata": {},
     "output_type": "execute_result"
    }
   ],
   "source": [
    "c[0]"
   ]
  },
  {
   "cell_type": "code",
   "execution_count": 91,
   "id": "6c56e5c2-22d3-49bd-a608-ca5cff606580",
   "metadata": {},
   "outputs": [
    {
     "data": {
      "text/plain": [
       "3.14"
      ]
     },
     "execution_count": 91,
     "metadata": {},
     "output_type": "execute_result"
    }
   ],
   "source": [
    "c[1]"
   ]
  },
  {
   "cell_type": "code",
   "execution_count": 92,
   "id": "3c0369d0-7fc5-453f-83a6-96ef20896233",
   "metadata": {},
   "outputs": [
    {
     "data": {
      "text/plain": [
       "'pi'"
      ]
     },
     "execution_count": 92,
     "metadata": {},
     "output_type": "execute_result"
    }
   ],
   "source": [
    "c[2]"
   ]
  },
  {
   "cell_type": "markdown",
   "id": "36d4de76-34a5-40de-a110-a0a693471372",
   "metadata": {},
   "source": [
    "심지어 리스트 변수에 또 다른 리스트 변수나 딕셔너리 변수를 넣을 수도 있다.\n"
   ]
  },
  {
   "cell_type": "code",
   "execution_count": 93,
   "id": "dc5f36a0-6f1d-4dce-9522-54fbe321ad10",
   "metadata": {},
   "outputs": [],
   "source": [
    "d = [[1, 10], [2, 20]]"
   ]
  },
  {
   "cell_type": "code",
   "execution_count": 94,
   "id": "401d1a15-d2aa-417c-bf26-2cbf18248b41",
   "metadata": {},
   "outputs": [
    {
     "data": {
      "text/plain": [
       "[1, 10]"
      ]
     },
     "execution_count": 94,
     "metadata": {},
     "output_type": "execute_result"
    }
   ],
   "source": [
    "d[0]"
   ]
  },
  {
   "cell_type": "code",
   "execution_count": 95,
   "id": "50e429ee-5e11-4bea-a65e-33f6edd5a347",
   "metadata": {},
   "outputs": [
    {
     "data": {
      "text/plain": [
       "[2, 20]"
      ]
     },
     "execution_count": 95,
     "metadata": {},
     "output_type": "execute_result"
    }
   ],
   "source": [
    "d[1]"
   ]
  },
  {
   "cell_type": "code",
   "execution_count": 96,
   "id": "49b533f9-5339-4bdc-9b74-9ef8edb7a7f3",
   "metadata": {},
   "outputs": [
    {
     "data": {
      "text/plain": [
       "1"
      ]
     },
     "execution_count": 96,
     "metadata": {},
     "output_type": "execute_result"
    }
   ],
   "source": [
    "d[0][0]"
   ]
  },
  {
   "cell_type": "code",
   "execution_count": 97,
   "id": "f224789e-f95c-48fb-8fdf-0609497339d4",
   "metadata": {},
   "outputs": [
    {
     "data": {
      "text/plain": [
       "10"
      ]
     },
     "execution_count": 97,
     "metadata": {},
     "output_type": "execute_result"
    }
   ],
   "source": [
    "d[0][1]"
   ]
  },
  {
   "cell_type": "code",
   "execution_count": 98,
   "id": "0eb89969-647a-4507-9143-d64a8e9e2d46",
   "metadata": {},
   "outputs": [
    {
     "data": {
      "text/plain": [
       "2"
      ]
     },
     "execution_count": 98,
     "metadata": {},
     "output_type": "execute_result"
    }
   ],
   "source": [
    "d[1][0]"
   ]
  },
  {
   "cell_type": "code",
   "execution_count": 99,
   "id": "eefe4285-b395-4580-a724-2050676e798d",
   "metadata": {},
   "outputs": [
    {
     "data": {
      "text/plain": [
       "20"
      ]
     },
     "execution_count": 99,
     "metadata": {},
     "output_type": "execute_result"
    }
   ],
   "source": [
    "d[1][1]"
   ]
  },
  {
   "cell_type": "code",
   "execution_count": 100,
   "id": "6cf70bff-4e12-4308-98d0-9b3849172e88",
   "metadata": {},
   "outputs": [],
   "source": [
    "e = [{0: 0, 1: 10}, {0: 1, 1: 2}]"
   ]
  },
  {
   "cell_type": "code",
   "execution_count": 101,
   "id": "c594d4f1-34f5-40b5-98b8-856ada7e1d4a",
   "metadata": {},
   "outputs": [
    {
     "data": {
      "text/plain": [
       "{0: 0, 1: 10}"
      ]
     },
     "execution_count": 101,
     "metadata": {},
     "output_type": "execute_result"
    }
   ],
   "source": [
    "e[0]"
   ]
  },
  {
   "cell_type": "code",
   "execution_count": 102,
   "id": "8a1723f3-05c1-42df-820d-b191b62140fe",
   "metadata": {},
   "outputs": [
    {
     "data": {
      "text/plain": [
       "{0: 1, 1: 2}"
      ]
     },
     "execution_count": 102,
     "metadata": {},
     "output_type": "execute_result"
    }
   ],
   "source": [
    "e[1]"
   ]
  },
  {
   "cell_type": "markdown",
   "id": "774dfa30-64fd-45d0-8c61-38272ffb3852",
   "metadata": {},
   "source": [
    "딕셔너리 변수에도 여러가지 자료형의 자료를 넣을 수 있다.\n"
   ]
  },
  {
   "cell_type": "code",
   "execution_count": 103,
   "id": "b8db4571-93c0-4c74-b6d7-73d376f6104d",
   "metadata": {},
   "outputs": [],
   "source": [
    "f = {\"a\": [1, 2, 3], \"b\": {0: 1, 1: 2}}"
   ]
  },
  {
   "cell_type": "code",
   "execution_count": 104,
   "id": "cc42a63c-8447-4005-9257-168c52d6d5ee",
   "metadata": {},
   "outputs": [
    {
     "data": {
      "text/plain": [
       "[1, 2, 3]"
      ]
     },
     "execution_count": 104,
     "metadata": {},
     "output_type": "execute_result"
    }
   ],
   "source": [
    "f[\"a\"]"
   ]
  },
  {
   "cell_type": "code",
   "execution_count": 105,
   "id": "a10837ac-043a-400f-8406-e153fa00e6dc",
   "metadata": {},
   "outputs": [
    {
     "data": {
      "text/plain": [
       "{0: 1, 1: 2}"
      ]
     },
     "execution_count": 105,
     "metadata": {},
     "output_type": "execute_result"
    }
   ],
   "source": [
    "f[\"b\"]"
   ]
  },
  {
   "cell_type": "code",
   "execution_count": 106,
   "id": "a8d7a7c0-f338-4f1d-9832-11e3c04758fa",
   "metadata": {},
   "outputs": [
    {
     "data": {
      "text/plain": [
       "1"
      ]
     },
     "execution_count": 106,
     "metadata": {},
     "output_type": "execute_result"
    }
   ],
   "source": [
    "f[\"a\"][0]"
   ]
  },
  {
   "cell_type": "code",
   "execution_count": 107,
   "id": "104d834d-ebb0-4b35-aee3-bd675fc8bd7e",
   "metadata": {},
   "outputs": [
    {
     "data": {
      "text/plain": [
       "3"
      ]
     },
     "execution_count": 107,
     "metadata": {},
     "output_type": "execute_result"
    }
   ],
   "source": [
    "f[\"a\"][2]"
   ]
  },
  {
   "cell_type": "markdown",
   "id": "b87a467f-b4b8-408b-b3eb-8771a0fb4168",
   "metadata": {},
   "source": [
    "## 9 파이썬에서 리스트 자료형 다루기"
   ]
  },
  {
   "cell_type": "markdown",
   "id": "29f1ca09-5d04-4119-b8cd-3bce5461ffd3",
   "metadata": {},
   "source": [
    "## 자료의 개수\n",
    "\n",
    "리스트 변수에 자료가 몇 개 들어가 있는지 알기 위해서는 len이라는 명령을 사용한다."
   ]
  },
  {
   "cell_type": "code",
   "execution_count": 108,
   "id": "0a6dacf9-1ae2-460f-b46c-e2f2f43f3e5f",
   "metadata": {},
   "outputs": [],
   "source": [
    "a = [1, 2, 3, 4 ,5]"
   ]
  },
  {
   "cell_type": "code",
   "execution_count": 109,
   "id": "f0aab9f6-63a5-45d8-a3b3-496029670cc6",
   "metadata": {},
   "outputs": [
    {
     "data": {
      "text/plain": [
       "5"
      ]
     },
     "execution_count": 109,
     "metadata": {},
     "output_type": "execute_result"
    }
   ],
   "source": [
    "len(a)"
   ]
  },
  {
   "cell_type": "markdown",
   "id": "17fc51c6-e5ad-4539-9a71-052df2843dce",
   "metadata": {},
   "source": [
    "## 수열 생성하기\n",
    "\n",
    "0부터 n-1까지 1씩 증가하는 n개의 숫자를 가지는 수열 리스트는 range 명령으로 생성한다.\n",
    "\n",
    ">**Note**  \n",
    "> 파이썬 2에서는 range 명령만 쓰면 되지만 파이썬 3에서는 range 명령으로 만들어진 값을 list 명령을 사용하여 명시적으로 리스트로 바꾸어야 한다.\n"
   ]
  },
  {
   "cell_type": "code",
   "execution_count": 112,
   "id": "a8e90205-696a-4f12-8538-0b28930c5969",
   "metadata": {},
   "outputs": [
    {
     "data": {
      "text/plain": [
       "[0, 1, 2, 3, 4, 5, 6, 7, 8, 9]"
      ]
     },
     "execution_count": 112,
     "metadata": {},
     "output_type": "execute_result"
    }
   ],
   "source": [
    "b = list(range(10))\n",
    "b"
   ]
  },
  {
   "cell_type": "markdown",
   "id": "e91b3fb4-e81d-404e-a5ee-4fa50c5f44f0",
   "metadata": {},
   "source": [
    "만약 0이 아닌 다른 수부터 증가하게 하려면 다음과 같이 range 명령에 두 개의 숫자를 넣는다.\n",
    "\n",
    "> **Note**  \n",
    ">range 명령은 두 숫자 x, y 에 대해 x보다 같거나 크고(이상), y보다 작은(미만) 수열을 만든다.  \n",
    ">즉 x는 시작값(start), y는 포함되지 않는 끝값(end) 역할을 한다."
   ]
  },
  {
   "cell_type": "code",
   "execution_count": 113,
   "id": "21569787-ed54-40cb-aff0-1f2559a114d1",
   "metadata": {},
   "outputs": [
    {
     "data": {
      "text/plain": [
       "[1, 2, 3, 4, 5, 6, 7, 8, 9]"
      ]
     },
     "execution_count": 113,
     "metadata": {},
     "output_type": "execute_result"
    }
   ],
   "source": [
    "c = list(range(1, 10))\n",
    "c"
   ]
  },
  {
   "cell_type": "markdown",
   "id": "84faa76a-938f-4086-a66f-95bddcb12c0a",
   "metadata": {},
   "source": [
    "만약 1씩 증가하는 것이 아니라 2 혹은 3씩 증가하는 수열을 만들고 싶다면 range 명령에 세 개의 숫자를 넣는다. 세번째 숫자는 건너 뛰기 숫자(step) 역할을 한다."
   ]
  },
  {
   "cell_type": "code",
   "execution_count": 114,
   "id": "0125cc77-2406-4b83-bede-c7ff17b047bc",
   "metadata": {},
   "outputs": [
    {
     "data": {
      "text/plain": [
       "[1, 3, 5, 7, 9]"
      ]
     },
     "execution_count": 114,
     "metadata": {},
     "output_type": "execute_result"
    }
   ],
   "source": [
    "d = list(range(1, 10, 2))\n",
    "d"
   ]
  },
  {
   "cell_type": "markdown",
   "id": "d448df0a-7088-4f25-88bf-4ac1665eb164",
   "metadata": {},
   "source": [
    "## 값을 바꾸기\n",
    "\n",
    "리스트에서 특정 원소의 값을 갱신하려면 다음과 같이 인덱싱한 값에 새로운 값을 대입하면 된다."
   ]
  },
  {
   "cell_type": "code",
   "execution_count": 115,
   "id": "9b36436e-1455-47f7-bb26-6d2c23a4716f",
   "metadata": {},
   "outputs": [
    {
     "data": {
      "text/plain": [
       "[100, 3, 5, 7, 9]"
      ]
     },
     "execution_count": 115,
     "metadata": {},
     "output_type": "execute_result"
    }
   ],
   "source": [
    "d[0] = 100\n",
    "d"
   ]
  },
  {
   "cell_type": "markdown",
   "id": "2d95d365-a521-4abd-aece-55bc30aa6e68",
   "metadata": {},
   "source": [
    "## 자료 추가하기\n",
    "\n",
    "리스트 변수의 마지막에 자료를 더 추가하려면 다음과 같이 append 메서드를 사용한다.  \n",
    "이 때 메서드(method)란 변수 다음에 점(.)을 찍고 쓰는 명령을 말한다."
   ]
  },
  {
   "cell_type": "code",
   "execution_count": 116,
   "id": "91ac7402-593b-4b86-bad2-e577462f679b",
   "metadata": {},
   "outputs": [
    {
     "data": {
      "text/plain": [
       "[0, 1, 2, 3]"
      ]
     },
     "execution_count": 116,
     "metadata": {},
     "output_type": "execute_result"
    }
   ],
   "source": [
    "e = list(range(4))\n",
    "e"
   ]
  },
  {
   "cell_type": "code",
   "execution_count": 117,
   "id": "7a09f953-4b53-4c1f-9ca2-23b3a9504b97",
   "metadata": {},
   "outputs": [
    {
     "data": {
      "text/plain": [
       "[0, 1, 2, 3, 4]"
      ]
     },
     "execution_count": 117,
     "metadata": {},
     "output_type": "execute_result"
    }
   ],
   "source": [
    "e.append(4)\n",
    "e"
   ]
  },
  {
   "cell_type": "code",
   "execution_count": 119,
   "id": "74a6b208-c660-4511-afa0-9d9c2ed36bb5",
   "metadata": {},
   "outputs": [
    {
     "data": {
      "text/plain": [
       "[0, 1, 2, 3, 4, 10, 10.34]"
      ]
     },
     "execution_count": 119,
     "metadata": {},
     "output_type": "execute_result"
    }
   ],
   "source": [
    "e.append(10.34)\n",
    "e"
   ]
  },
  {
   "cell_type": "markdown",
   "id": "305bffcf-bceb-42f6-81db-318f29ce08b1",
   "metadata": {},
   "source": [
    "## 자료 삭제하기\n",
    "\n",
    "리스트에서 자료를 하나 삭제하려면 다음과 같이 del 명령을 사용한다.\n",
    "\n"
   ]
  },
  {
   "cell_type": "code",
   "execution_count": 120,
   "id": "26be8bfb-71f4-43c7-afc0-deae341c9b0c",
   "metadata": {},
   "outputs": [
    {
     "data": {
      "text/plain": [
       "[0, 1, 2, 3, 4]"
      ]
     },
     "execution_count": 120,
     "metadata": {},
     "output_type": "execute_result"
    }
   ],
   "source": [
    "f = list(range(5))\n",
    "f"
   ]
  },
  {
   "cell_type": "code",
   "execution_count": 121,
   "id": "34d959ea-26c4-45c2-aebf-62f4e16c6f2a",
   "metadata": {},
   "outputs": [
    {
     "data": {
      "text/plain": [
       "[1, 2, 3, 4]"
      ]
     },
     "execution_count": 121,
     "metadata": {},
     "output_type": "execute_result"
    }
   ],
   "source": [
    "del f[0]\n",
    "f"
   ]
  },
  {
   "cell_type": "code",
   "execution_count": 122,
   "id": "7a135596-c445-40db-a441-b2848424b508",
   "metadata": {},
   "outputs": [
    {
     "data": {
      "text/plain": [
       "[1, 2, 4]"
      ]
     },
     "execution_count": 122,
     "metadata": {},
     "output_type": "execute_result"
    }
   ],
   "source": [
    "del f[2]\n",
    "f"
   ]
  },
  {
   "cell_type": "markdown",
   "id": "7f7feeae-483b-4bcc-8d9b-2810e0edb691",
   "metadata": {},
   "source": [
    "## 슬라이싱\n",
    "\n",
    "리스트에서 자료를 하나만 가져오는 것이 아니라 특정 범위의 자료를 모두 가져오고 싶다면 슬라이싱(slicing)이라는 방법을 사용한다.  \n",
    "슬라이싱은 콜론(:) 기호를 사용하여 리스트의 자료 범위를 나타내는 연산이다.\n",
    "\n",
    "예를 들어 20개의 숫자가 있는 리스트에서 앞의 5개만 가져오고 싶으면 다음과 같이 입력한다."
   ]
  },
  {
   "cell_type": "code",
   "execution_count": 123,
   "id": "c588f98b-de50-4112-9fe3-dfd36b5737b4",
   "metadata": {},
   "outputs": [
    {
     "data": {
      "text/plain": [
       "[0, 1, 2, 3, 4, 5, 6, 7, 8, 9, 10, 11, 12, 13, 14, 15, 16, 17, 18, 19]"
      ]
     },
     "execution_count": 123,
     "metadata": {},
     "output_type": "execute_result"
    }
   ],
   "source": [
    "g = list(range(20))\n",
    "g"
   ]
  },
  {
   "cell_type": "code",
   "execution_count": 124,
   "id": "a364b02e-86e4-4fd7-b63a-43a97191ba46",
   "metadata": {},
   "outputs": [
    {
     "data": {
      "text/plain": [
       "[0, 1, 2, 3, 4]"
      ]
     },
     "execution_count": 124,
     "metadata": {},
     "output_type": "execute_result"
    }
   ],
   "source": [
    "g[0:5]"
   ]
  },
  {
   "cell_type": "markdown",
   "id": "9f373140-869d-4e3d-93a3-6e45b9f79e06",
   "metadata": {},
   "source": [
    "이 때 앞의 0이라는 숫자는 생략할 수 있다."
   ]
  },
  {
   "cell_type": "code",
   "execution_count": 125,
   "id": "6ed784de-b5c7-4e23-b3bb-121bb9fdfb3d",
   "metadata": {},
   "outputs": [
    {
     "data": {
      "text/plain": [
       "[0, 1, 2, 3, 4]"
      ]
     },
     "execution_count": 125,
     "metadata": {},
     "output_type": "execute_result"
    }
   ],
   "source": [
    "g[:5]"
   ]
  },
  {
   "cell_type": "markdown",
   "id": "0a223a07-f84a-4963-917f-cb01c922c094",
   "metadata": {},
   "source": [
    "만약 11 번째에서 15번째까지의 자료라면 다음과 같다.\n"
   ]
  },
  {
   "cell_type": "code",
   "execution_count": 126,
   "id": "1a21513e-c2c9-4f2f-a404-fc6b1916e630",
   "metadata": {},
   "outputs": [
    {
     "data": {
      "text/plain": [
       "[10, 11, 12, 13, 14]"
      ]
     },
     "execution_count": 126,
     "metadata": {},
     "output_type": "execute_result"
    }
   ],
   "source": [
    "g[10:15]"
   ]
  },
  {
   "cell_type": "markdown",
   "id": "54410e6a-c549-4f88-9a5b-80c59d74539f",
   "metadata": {},
   "source": [
    ">**Note** 리스트 인덱스의 특징\n",
    "> - 0부터 시작: 파이썬의 인덱싱은 0부터 시작하므로, 리스트의 첫 번째 요소를 참조하려면 인덱스 0을 사용해야 한다.  \n",
    "> - 음수 인덱싱: 파이썬은 음수 인덱스도 지원한다. 음수 인덱스는 리스트의 끝에서부터 요소를 참조할 때 사용됩니다.  \n",
    ">                        예) -1은 리스트의 마지막 요소, -2는 끝에서 두 번째 요소를 나타낸다.  \n",
    "> - 인덱스 범위 검사: 리스트의 범위를 벗어나는 인덱스를 사용하려고 하면 IndexError가 발생한다."
   ]
  },
  {
   "cell_type": "markdown",
   "id": "d32afa4d-1739-4e77-8644-f87425f0130d",
   "metadata": {},
   "source": [
    "## 역 인덱싱(음수 인덱싱)\n",
    "\n",
    "음수 인덱스를 사용하면 뒤에서부터 원소를 가리키게 된다. 이때 가장 뒤의 원소는 0이 아니라 -1 이라는 인덱스를 사용한다.\n"
   ]
  },
  {
   "cell_type": "code",
   "execution_count": 127,
   "id": "c2d48c50-348e-4353-8c97-e39733219787",
   "metadata": {},
   "outputs": [
    {
     "data": {
      "text/plain": [
       "[0, 1, 2, 3, 4, 5, 6, 7, 8, 9, 10, 11, 12, 13, 14, 15, 16, 17, 18, 19]"
      ]
     },
     "execution_count": 127,
     "metadata": {},
     "output_type": "execute_result"
    }
   ],
   "source": [
    "g"
   ]
  },
  {
   "cell_type": "code",
   "execution_count": 128,
   "id": "02764e5e-8f10-4334-ac1f-0f0e47068146",
   "metadata": {
    "scrolled": true
   },
   "outputs": [
    {
     "data": {
      "text/plain": [
       "19"
      ]
     },
     "execution_count": 128,
     "metadata": {},
     "output_type": "execute_result"
    }
   ],
   "source": [
    "g[-1]"
   ]
  },
  {
   "cell_type": "code",
   "execution_count": 129,
   "id": "d81597b9-fbda-45d4-8cd7-8bf20efc290c",
   "metadata": {},
   "outputs": [
    {
     "data": {
      "text/plain": [
       "18"
      ]
     },
     "execution_count": 129,
     "metadata": {},
     "output_type": "execute_result"
    }
   ],
   "source": [
    "g[-2]"
   ]
  },
  {
   "cell_type": "markdown",
   "id": "689c34b8-a2b5-4575-8e71-70b2db1d1f1c",
   "metadata": {},
   "source": [
    "음수 인덱스를 사용할 때도 슬라이싱을 할 수 있다. 두 번째 인덱스가 생략되면 끝까지를 의미한다(-1을 쓸 때와 다르다)."
   ]
  },
  {
   "cell_type": "code",
   "execution_count": 130,
   "id": "8a406379-413d-48a3-8765-6e92a07fbb23",
   "metadata": {},
   "outputs": [
    {
     "data": {
      "text/plain": [
       "[15, 16, 17]"
      ]
     },
     "execution_count": 130,
     "metadata": {},
     "output_type": "execute_result"
    }
   ],
   "source": [
    "g[-5:-2]"
   ]
  },
  {
   "cell_type": "code",
   "execution_count": 131,
   "id": "8ac49379-5f66-416d-b4ee-fcccaaf5a733",
   "metadata": {},
   "outputs": [
    {
     "data": {
      "text/plain": [
       "[17, 18]"
      ]
     },
     "execution_count": 131,
     "metadata": {},
     "output_type": "execute_result"
    }
   ],
   "source": [
    "g[-3:-1]"
   ]
  },
  {
   "cell_type": "markdown",
   "id": "d92aed15-02bd-4d91-bb17-b2f40a7365fa",
   "metadata": {},
   "source": [
    "## 복수 할당\n",
    "리스트의 각 원소값을 여러개의 변수에 나누어 넣고 싶을 때는 쉼표를 사용한 복수 할당(multiple/unpack assignment)을 사용한다.  \n",
    "할당 기호의 왼쪽에 쉼표로 구분된 변수를 여러개 넣으면 오른쪽에 있는 리스트의 각 원소값이 들어간다.\n"
   ]
  },
  {
   "cell_type": "code",
   "execution_count": 132,
   "id": "df883a49-b2ea-4b07-b57a-d9f8594aba02",
   "metadata": {},
   "outputs": [],
   "source": [
    "h = [1, 2, 3]\n",
    "h1, h2, h3 = h"
   ]
  },
  {
   "cell_type": "code",
   "execution_count": 133,
   "id": "3a1f49cc-0839-4e8c-9ca3-1c30ed3a381f",
   "metadata": {},
   "outputs": [
    {
     "data": {
      "text/plain": [
       "1"
      ]
     },
     "execution_count": 133,
     "metadata": {},
     "output_type": "execute_result"
    }
   ],
   "source": [
    "h1"
   ]
  },
  {
   "cell_type": "code",
   "execution_count": 134,
   "id": "a1c5607d-23e2-4e6a-bfb3-000990872261",
   "metadata": {},
   "outputs": [
    {
     "data": {
      "text/plain": [
       "2"
      ]
     },
     "execution_count": 134,
     "metadata": {},
     "output_type": "execute_result"
    }
   ],
   "source": [
    "h2"
   ]
  },
  {
   "cell_type": "code",
   "execution_count": 135,
   "id": "a22e7534-9015-4d5e-b7f3-1ae4afd84b51",
   "metadata": {},
   "outputs": [
    {
     "data": {
      "text/plain": [
       "3"
      ]
     },
     "execution_count": 135,
     "metadata": {},
     "output_type": "execute_result"
    }
   ],
   "source": [
    "h3"
   ]
  },
  {
   "cell_type": "markdown",
   "id": "dcdbc594-46ef-4b93-915e-923c6b5cec29",
   "metadata": {},
   "source": [
    "단 복수 할당을 할 때는 값이 들어갈 변수의 개수와 리스트의 길이가 같아야 한다. 그렇지 않으면 오류가 발생한다."
   ]
  },
  {
   "cell_type": "code",
   "execution_count": 136,
   "id": "9ffda162-73d9-4424-a727-d45f27428447",
   "metadata": {},
   "outputs": [
    {
     "ename": "ValueError",
     "evalue": "too many values to unpack (expected 2)",
     "output_type": "error",
     "traceback": [
      "\u001b[0;31m---------------------------------------------------------------------------\u001b[0m",
      "\u001b[0;31mValueError\u001b[0m                                Traceback (most recent call last)",
      "Cell \u001b[0;32mIn[136], line 1\u001b[0m\n\u001b[0;32m----> 1\u001b[0m h1, h2 \u001b[38;5;241m=\u001b[39m h\n",
      "\u001b[0;31mValueError\u001b[0m: too many values to unpack (expected 2)"
     ]
    }
   ],
   "source": [
    "h1, h2 = h"
   ]
  },
  {
   "cell_type": "markdown",
   "id": "54a91ab2-f914-4e61-965c-f5bd3ce173e7",
   "metadata": {},
   "source": [
    "## 리스트와 반복문을 사용하여 계산하기\n",
    "\n",
    "두 학생의 각 과목당 시험 성적이 다음과 같을 때 두 학생의 과목당 성적의 합은 다음과 같이 구할 수 있다.\n",
    "\n",
    "- $학생_1 성적 = \\{90, 85, 95, 80, 90, 100, 85, 75, 85, 80\\}$\n",
    "- $학생_2 성적= \\{95, 90, 90, 90, 95, 100, 90, 80, 95, 90\\}$"
   ]
  },
  {
   "cell_type": "code",
   "execution_count": 137,
   "id": "3e76036c-83fd-4fe6-a8d5-2d90b935569d",
   "metadata": {},
   "outputs": [
    {
     "data": {
      "text/plain": [
       "[185, 175, 185, 170, 185, 200, 175, 155, 180, 170]"
      ]
     },
     "execution_count": 137,
     "metadata": {},
     "output_type": "execute_result"
    }
   ],
   "source": [
    "s = []\n",
    "\n",
    "a1 = [90, 85, 95, 80, 90, 100, 85, 75, 85, 80]\n",
    "a2 = [95, 90, 90, 90, 95, 100, 90, 80, 95, 90]\n",
    "\n",
    "for i in range(len(a1)):\n",
    "    s.append(a1[i] + a2[i])\n",
    "s"
   ]
  },
  {
   "cell_type": "markdown",
   "id": "c604b69d-4ea3-4d14-94fd-ee1ddf61b911",
   "metadata": {},
   "source": [
    "## 리스트의 원소를 직접 반복문에서 사용하기\n",
    "\n",
    "지금까지는 for 반복문을 사용할 때 range 명령으로 리스트에 적용할 인덱스 정수를 만들어서 리스트의 원소 값을 찾았다.  \n",
    "하지만 for 반복문에서 리스트의 원소를 직접 뽑아 카운터 변수에 넣을 수도 있다.\n",
    "\n",
    "지금까지 반복문에서 사용해 온 range 명령은 사실 리스트를 만드는 명령이다."
   ]
  },
  {
   "cell_type": "code",
   "execution_count": 138,
   "id": "83605e86-1f2c-4b9b-8532-f05ad3c43f22",
   "metadata": {},
   "outputs": [
    {
     "data": {
      "text/plain": [
       "[0, 1, 2, 3, 4]"
      ]
     },
     "execution_count": 138,
     "metadata": {},
     "output_type": "execute_result"
    }
   ],
   "source": [
    "list(range(5))"
   ]
  },
  {
   "cell_type": "code",
   "execution_count": 139,
   "id": "90e06376-b773-499b-8267-3f45a051516e",
   "metadata": {},
   "outputs": [
    {
     "name": "stdout",
     "output_type": "stream",
     "text": [
      "0\n",
      "1\n",
      "2\n",
      "3\n",
      "4\n"
     ]
    }
   ],
   "source": [
    "for i in range(5):\n",
    "    print(i)"
   ]
  },
  {
   "cell_type": "markdown",
   "id": "6ab3d8e7-4730-4f33-8a2f-9ebd9446b659",
   "metadata": {},
   "source": [
    "위 코드는 다음의 코드와 같다."
   ]
  },
  {
   "cell_type": "code",
   "execution_count": 140,
   "id": "dc69bca2-e611-4f5d-bc2e-95653fa98c5e",
   "metadata": {},
   "outputs": [
    {
     "name": "stdout",
     "output_type": "stream",
     "text": [
      "0\n",
      "1\n",
      "2\n",
      "3\n",
      "4\n"
     ]
    }
   ],
   "source": [
    "for i in [0, 1, 2, 3, 4]:\n",
    "    print(i)"
   ]
  },
  {
   "cell_type": "markdown",
   "id": "52c28790-beb6-4b37-bc22-a0dbc8961d17",
   "metadata": {},
   "source": [
    "따라서 한 학생의 시험 점수가 다음과 같을 때 이 학생의 평균을 계산 코드는 다음과 같다.\n",
    "\n",
    "- $학생 성적 = \\{90, 85, 95, 80, 90, 100, 85, 75, 85, 80\\}$\n",
    "\n"
   ]
  },
  {
   "cell_type": "code",
   "execution_count": 141,
   "id": "2b839a5d-8d5f-49f5-a7da-73cb5c09d291",
   "metadata": {},
   "outputs": [
    {
     "data": {
      "text/plain": [
       "86.5"
      ]
     },
     "execution_count": 141,
     "metadata": {},
     "output_type": "execute_result"
    }
   ],
   "source": [
    "# 리스트와 반복문 사용\n",
    "\n",
    "a = [90, 85, 95, 80, 90, 100, 85, 75, 85, 80]\n",
    "\n",
    "sum = 0\n",
    "\n",
    "for i in range(len(a)):\n",
    "    sum = sum + a[i]\n",
    "average = sum / len(a)\n",
    "average"
   ]
  },
  {
   "cell_type": "code",
   "execution_count": 142,
   "id": "270392d9-3fe6-4f63-af16-7e44f518f507",
   "metadata": {},
   "outputs": [
    {
     "data": {
      "text/plain": [
       "86.5"
      ]
     },
     "execution_count": 142,
     "metadata": {},
     "output_type": "execute_result"
    }
   ],
   "source": [
    "# 리스트의 원소를 직접 반복문에 사용\n",
    "\n",
    "a = [90, 85, 95, 80, 90, 100, 85, 75, 85, 80]\n",
    "\n",
    "sum = 0\n",
    "\n",
    "for ai in a:\n",
    "    sum = sum + ai\n",
    "average = sum / len(a)\n",
    "average"
   ]
  },
  {
   "cell_type": "markdown",
   "id": "288a21d5-8f39-4145-9296-318452b6a179",
   "metadata": {},
   "source": [
    "## 리스트의 리스트\n",
    "\n",
    "학생이 5명이고 각 학생이 10번의 시험에 대한 성적을 가진다면 다음과 같이 리스트의 리스트로 전체 시험 성적을 나타낼 수 있다.\n",
    "\n"
   ]
  },
  {
   "cell_type": "code",
   "execution_count": 143,
   "id": "364c5d28-3d0c-4514-99aa-2561727f6b53",
   "metadata": {},
   "outputs": [],
   "source": [
    "X = [[85,  90,  20,  50,  60,  25,  30,  75,  40,  55],\n",
    "     [70, 100,  70,  70,  55,  75,  55,  60,  40,  45],\n",
    "     [25,  65,  15,  25,  20,   5,  60,  70,  35,  10],\n",
    "     [80,  45,  80,  40,  75,  35,  80,  55,  70,  90],\n",
    "     [35,  50,  75,  25,  35,  70,  65,  50,  70,  10]]"
   ]
  },
  {
   "cell_type": "markdown",
   "id": "d46bce34-3e7a-476c-9c18-67d08a5c9436",
   "metadata": {},
   "source": [
    "이 때 전체 평균 점수는 다음과 같이 구한다.\n"
   ]
  },
  {
   "cell_type": "code",
   "execution_count": 144,
   "id": "573d2931-fd25-440a-b954-b9858d983abb",
   "metadata": {},
   "outputs": [
    {
     "data": {
      "text/plain": [
       "52.7"
      ]
     },
     "execution_count": 144,
     "metadata": {},
     "output_type": "execute_result"
    }
   ],
   "source": [
    "sum = 0\n",
    "num = 0\n",
    "for i in range(len(X)):\n",
    "    for j in range(len(X[i])):\n",
    "        num = num + 1\n",
    "        sum = sum + X[i][j]\n",
    "sum / num"
   ]
  },
  {
   "cell_type": "markdown",
   "id": "8697a509-d00a-467d-9873-bd71a3e51b7d",
   "metadata": {},
   "source": [
    "# 11. 파이썬에서 딕셔너리 자료형 다루기"
   ]
  },
  {
   "cell_type": "markdown",
   "id": "881aef58-1017-4859-94f5-aa2e576c3494",
   "metadata": {},
   "source": [
    "## 자료의 개수\n",
    "\n",
    "리스트 자료형과 마찬가지로 딕셔너리 자료형의 원소의 개수도 len 명령으로 구할 수 있다."
   ]
  },
  {
   "cell_type": "code",
   "execution_count": 145,
   "id": "d1178590-e504-44bc-8dc9-52500e4009c2",
   "metadata": {},
   "outputs": [],
   "source": [
    "x = {\"a\": 10, \"b\": 20}"
   ]
  },
  {
   "cell_type": "code",
   "execution_count": 146,
   "id": "8fd3e26d-ac41-42b4-b4d5-edb0336fe33e",
   "metadata": {},
   "outputs": [
    {
     "data": {
      "text/plain": [
       "2"
      ]
     },
     "execution_count": 146,
     "metadata": {},
     "output_type": "execute_result"
    }
   ],
   "source": [
    "len(x)"
   ]
  },
  {
   "cell_type": "markdown",
   "id": "a3e9a1e8-bccf-457d-aee3-4194690e6ab1",
   "metadata": {},
   "source": [
    "## 자료의 갱신, 추가, 삭제\n",
    "\n",
    "딕셔너리 자료에서 특정한 키 값을 다른 값으로 바꾸려면 인덱싱 결과에 바꾸고자 하는 값을 대입한다.\n"
   ]
  },
  {
   "cell_type": "code",
   "execution_count": 147,
   "id": "e933bef2-4d32-44f9-987e-a4dd86674d55",
   "metadata": {},
   "outputs": [
    {
     "data": {
      "text/plain": [
       "10"
      ]
     },
     "execution_count": 147,
     "metadata": {},
     "output_type": "execute_result"
    }
   ],
   "source": [
    "x[\"a\"]"
   ]
  },
  {
   "cell_type": "code",
   "execution_count": 148,
   "id": "122af080-2961-46d6-a9bb-b7856de9a2eb",
   "metadata": {},
   "outputs": [],
   "source": [
    "x[\"a\"] = 30"
   ]
  },
  {
   "cell_type": "code",
   "execution_count": 149,
   "id": "307a503f-5941-48d8-a833-07fa7589dd59",
   "metadata": {},
   "outputs": [
    {
     "data": {
      "text/plain": [
       "{'a': 30, 'b': 20}"
      ]
     },
     "execution_count": 149,
     "metadata": {},
     "output_type": "execute_result"
    }
   ],
   "source": [
    "x"
   ]
  },
  {
   "cell_type": "markdown",
   "id": "40674a29-7663-4711-8fd0-8ae86ed9773b",
   "metadata": {},
   "source": [
    "딕셔너리 자료에 새로운 키와 이에 대응하는 값을 추가하려면 현재는 자료 갱신과 마찬가지로 인덱싱 결과에 값을 대입한다.  \n",
    "다만 이 때는 현재 존재하지 않는 키를 인덱스로 사용한다."
   ]
  },
  {
   "cell_type": "code",
   "execution_count": 150,
   "id": "d8fa945e-959c-4ab0-9474-df7b95658b89",
   "metadata": {},
   "outputs": [],
   "source": [
    "x[\"c\"] = 40"
   ]
  },
  {
   "cell_type": "code",
   "execution_count": 151,
   "id": "fe4b4690-066f-4516-94be-0089ac1196ae",
   "metadata": {},
   "outputs": [
    {
     "data": {
      "text/plain": [
       "{'a': 30, 'b': 20, 'c': 40}"
      ]
     },
     "execution_count": 151,
     "metadata": {},
     "output_type": "execute_result"
    }
   ],
   "source": [
    "x"
   ]
  },
  {
   "cell_type": "markdown",
   "id": "0be000a3-902e-435c-91c5-788b7b3ed2d3",
   "metadata": {},
   "source": [
    "특정한 키와 이에 해당하는 값을 없애려면 del 명령을 사용한다.\n"
   ]
  },
  {
   "cell_type": "code",
   "execution_count": 152,
   "id": "b1785d7a-4946-4ad9-a1b3-41ca21462b5d",
   "metadata": {},
   "outputs": [],
   "source": [
    "del x[\"b\"]"
   ]
  },
  {
   "cell_type": "code",
   "execution_count": 153,
   "id": "e88480b5-d43b-4965-a24a-0f1322bf2804",
   "metadata": {},
   "outputs": [
    {
     "data": {
      "text/plain": [
       "{'a': 30, 'c': 40}"
      ]
     },
     "execution_count": 153,
     "metadata": {},
     "output_type": "execute_result"
    }
   ],
   "source": [
    "x"
   ]
  },
  {
   "cell_type": "markdown",
   "id": "1f56b89d-7ce2-4572-a4cf-75ce0fd17fa8",
   "metadata": {},
   "source": [
    "## 키 확인\n",
    "\n",
    "딕셔너리 자료에 특정한 키가 있는지 없는지 알기 위해서는 in 명령을 사용한다. 만약 해당 키가 존재하면 True를, 존재하지 않으면 False를 반환한다."
   ]
  },
  {
   "cell_type": "code",
   "execution_count": 154,
   "id": "ede004c1-3e42-434a-9d5f-7e6e8c3a7b81",
   "metadata": {},
   "outputs": [
    {
     "data": {
      "text/plain": [
       "[90, 85, 95, 80, 90, 100, 85, 75, 85, 80]"
      ]
     },
     "execution_count": 154,
     "metadata": {},
     "output_type": "execute_result"
    }
   ],
   "source": [
    "a"
   ]
  },
  {
   "cell_type": "code",
   "execution_count": 155,
   "id": "f410c290-d57f-493c-a6c8-5a5a92cce704",
   "metadata": {},
   "outputs": [
    {
     "data": {
      "text/plain": [
       "True"
      ]
     },
     "execution_count": 155,
     "metadata": {},
     "output_type": "execute_result"
    }
   ],
   "source": [
    "\"a\" in x"
   ]
  },
  {
   "cell_type": "code",
   "execution_count": 156,
   "id": "859e2eeb-a6af-4a26-8276-142ba3752e66",
   "metadata": {},
   "outputs": [
    {
     "data": {
      "text/plain": [
       "[100, 3, 5, 7, 9]"
      ]
     },
     "execution_count": 156,
     "metadata": {},
     "output_type": "execute_result"
    }
   ],
   "source": [
    "d"
   ]
  },
  {
   "cell_type": "code",
   "execution_count": 157,
   "id": "966d901a-515c-49a8-9421-f0beae4e3def",
   "metadata": {},
   "outputs": [
    {
     "data": {
      "text/plain": [
       "False"
      ]
     },
     "execution_count": 157,
     "metadata": {},
     "output_type": "execute_result"
    }
   ],
   "source": [
    "\"d\" in x"
   ]
  },
  {
   "cell_type": "code",
   "execution_count": 158,
   "id": "31dc6d9a-9750-430a-9e9c-11515010857a",
   "metadata": {},
   "outputs": [
    {
     "data": {
      "text/plain": [
       "{'a': 30, 'c': 40}"
      ]
     },
     "execution_count": 158,
     "metadata": {},
     "output_type": "execute_result"
    }
   ],
   "source": [
    "x"
   ]
  },
  {
   "cell_type": "markdown",
   "id": "89642517-d09c-4638-9788-9afa5b2bad17",
   "metadata": {},
   "source": [
    "# 딕셔너리 자료형의 반복\n",
    "\n",
    "리스트 자료형처럼 딕셔너리 자료형에 있는 데이터도 for 반복문에 넣을 수 있다.\n",
    "\n",
    ">**Warning**\n",
    "> 이 때 딕셔너리 자료형은 내부적으로 자료의 순서를 보장하지 않으므로 특정한 순서로 반복될 것을 기대하면 안된다는 점에 주의한다.\n",
    "\n",
    "for 반복문에서 딕셔너리 자료형을 사용하는 방법에는 다음 세가지가 있다.  \n",
    "- 키만 반복하는 경우\n",
    "- 값만 반복하는 경우\n",
    "- 키와 값 쌍을 반복하는 경우"
   ]
  },
  {
   "cell_type": "markdown",
   "id": "3bd5dd49-f88c-4373-82d4-4a70c5cae832",
   "metadata": {},
   "source": [
    "## 딕셔너리 자료형의 키 반복\n",
    "\n",
    "딕셔너리 자료의 키를 반복하려면 리스트와 마찬가지로 for 반복문의 in 다음에 딕셔너리 자료형 변수를 넣으면 된다."
   ]
  },
  {
   "cell_type": "code",
   "execution_count": 166,
   "id": "dfcd8926-e9c4-48fb-afe9-e64c92f5bb2d",
   "metadata": {},
   "outputs": [
    {
     "data": {
      "text/plain": [
       "{'a': 30, 'c': 40}"
      ]
     },
     "execution_count": 166,
     "metadata": {},
     "output_type": "execute_result"
    }
   ],
   "source": [
    "x"
   ]
  },
  {
   "cell_type": "code",
   "execution_count": 167,
   "id": "6cc3d77e-3343-4a84-b00c-47ce35b621c6",
   "metadata": {},
   "outputs": [
    {
     "name": "stdout",
     "output_type": "stream",
     "text": [
      "a\n",
      "c\n"
     ]
    }
   ],
   "source": [
    "for k in x:\n",
    "    print(k)"
   ]
  },
  {
   "cell_type": "markdown",
   "id": "9bcd88c6-120e-4c8c-aaa3-aba6f044a309",
   "metadata": {},
   "source": [
    "keys 메서드는 딕셔너리 자료의 키 목록을 리스트로 반환하므로 반복문에 이를 사용할 수도 있다."
   ]
  },
  {
   "cell_type": "code",
   "execution_count": 168,
   "id": "74707fec-8b81-46c3-a87b-7e8cf25d008a",
   "metadata": {},
   "outputs": [
    {
     "data": {
      "text/plain": [
       "dict_keys(['a', 'c'])"
      ]
     },
     "execution_count": 168,
     "metadata": {},
     "output_type": "execute_result"
    }
   ],
   "source": [
    "x.keys()"
   ]
  },
  {
   "cell_type": "code",
   "execution_count": 169,
   "id": "be10310b-6398-4633-b5f7-4a61c6245a85",
   "metadata": {},
   "outputs": [
    {
     "name": "stdout",
     "output_type": "stream",
     "text": [
      "a\n",
      "c\n"
     ]
    }
   ],
   "source": [
    "for k in x.keys():\n",
    "    print(k)"
   ]
  },
  {
   "cell_type": "markdown",
   "id": "faf7b3d8-4bca-4d02-a7f2-fb41d656f44f",
   "metadata": {},
   "source": [
    "## 딕셔너리 자료형의 값 반복\n",
    "딕셔너리 자료의 키를 반복하려면 딕셔너리 자료의 값 목록을 리스트로 반환하는 values 메서드를 사용한다.\n"
   ]
  },
  {
   "cell_type": "code",
   "execution_count": 170,
   "id": "4bfa1265-5bac-4fa0-b93e-f1d4c26ed353",
   "metadata": {},
   "outputs": [
    {
     "data": {
      "text/plain": [
       "{'a': 30, 'c': 40}"
      ]
     },
     "execution_count": 170,
     "metadata": {},
     "output_type": "execute_result"
    }
   ],
   "source": [
    "x"
   ]
  },
  {
   "cell_type": "code",
   "execution_count": 171,
   "id": "35930a74-67ad-4eb3-a4f4-4cb5e1f4bb81",
   "metadata": {},
   "outputs": [
    {
     "data": {
      "text/plain": [
       "dict_values([30, 40])"
      ]
     },
     "execution_count": 171,
     "metadata": {},
     "output_type": "execute_result"
    }
   ],
   "source": [
    "x.values()"
   ]
  },
  {
   "cell_type": "code",
   "execution_count": 172,
   "id": "d1a6bd7b-0168-4a49-9301-b0f4a8c48fa2",
   "metadata": {},
   "outputs": [
    {
     "name": "stdout",
     "output_type": "stream",
     "text": [
      "30\n",
      "40\n"
     ]
    }
   ],
   "source": [
    "for v in x.values():\n",
    "    print(v)"
   ]
  },
  {
   "cell_type": "markdown",
   "id": "071014ad-196a-402a-858c-046d6cfef8c6",
   "metadata": {},
   "source": [
    "## 딕셔너리 자료형의 키와 값의 쌍 반복\n",
    "\n",
    "\n",
    "딕셔너리 자료의 키와 값을 쌍으로 하여 반복하려면 items 메서드를 사용  \n",
    "다. 이 때 for 다음의 카운터 변수를 다음과 같이 두 개 지정해야   \n",
    "다. 첫번째 카운터 변수에는 키가, 두번째 카운터 변수에는 값이 들어가게   된다."
   ]
  },
  {
   "cell_type": "code",
   "execution_count": 173,
   "id": "75ad8168-744d-41ee-99e4-d9be62cea36b",
   "metadata": {},
   "outputs": [
    {
     "data": {
      "text/plain": [
       "{'a': 30, 'c': 40}"
      ]
     },
     "execution_count": 173,
     "metadata": {},
     "output_type": "execute_result"
    }
   ],
   "source": [
    "x"
   ]
  },
  {
   "cell_type": "code",
   "execution_count": 174,
   "id": "da373b87-62ad-4569-bae4-827f99d3c7bd",
   "metadata": {},
   "outputs": [
    {
     "name": "stdout",
     "output_type": "stream",
     "text": [
      "key [a] => value [30]\n",
      "key [c] => value [40]\n"
     ]
    }
   ],
   "source": [
    "for k, v in x.items():\n",
    "    print(\"key [%s] => value [%d]\" % (k, v))"
   ]
  },
  {
   "cell_type": "markdown",
   "id": "86c49be8-95a8-48d6-abe8-fcb0a1ba2c60",
   "metadata": {},
   "source": [
    "# 12. 파이썬 패키지 사용하기"
   ]
  },
  {
   "cell_type": "markdown",
   "id": "05eb3d4e-0ba4-4b96-b1a1-c90f305df288",
   "metadata": {},
   "source": [
    "## 패키지 임포트\n",
    "\n",
    "패키지가 설치되어 있다고 바로 파이썬에서 사용할 수 있는 것은 아니다.  \n",
    "패키지를 사용하려면 해당 패키지를 파이썬에서 사용할 수 있도록 설정하는 명령을 실행해야 한다.  \n",
    "파이썬에서 패키지를 사용하도록 설정하는 것을 패키지 임포트(import)라고 한다.  \n",
    "\n",
    "패키지를 임포트하려면 다음 명령을 실행한다.\n",
    "\n",
    ">```python\n",
    ">import 패키지이름\n",
    ">```\n",
    "\n",
    "이 때 주의할 점은 임포트할 때 사용하는 패키지 이름은 일반적으로 부르는 패키지 이름과 다를 수 있다.  \n",
    "예를 들어 Scikit-Learn 패키지는 sklearn이라는 이름으로 임포트해야 한다.\n",
    "\n",
    "패키지 이름은 추후 패키지 안의 함수들을 사용할 때 계속 쓰인다.  \n",
    "그래서 패키지 이름이 너무 길면 import ~ as ~ 명령을 사용하여 짧은 패키지 별명을 사용할 수도 있다.\n",
    "\n",
    ">```python\n",
    ">import 패키지이름 as 패키지별명\n",
    ">```\n",
    "\n",
    "\n",
    ">```python\n",
    ">import tensorflow as tf\n",
    ">```"
   ]
  },
  {
   "cell_type": "markdown",
   "id": "21bbaadf-1fd1-4ad3-aad9-909cffcff1c5",
   "metadata": {},
   "source": [
    "## 패키지 내용 살펴보기\n",
    "임포트된 패키지 안의 내용을 살펴보려면 다음 명령을 사용한다.\n",
    "\n",
    ">```python\n",
    ">dir(패키지이름 또는 패키지별명)\n",
    "```\n",
    "\n",
    "\n"
   ]
  },
  {
   "cell_type": "code",
   "execution_count": 175,
   "id": "367d0ff4-cff0-48cb-97ac-bd311c6b5a4e",
   "metadata": {},
   "outputs": [
    {
     "name": "stderr",
     "output_type": "stream",
     "text": [
      "2024-05-16 03:59:31.673311: I tensorflow/core/platform/cpu_feature_guard.cc:193] This TensorFlow binary is optimized with oneAPI Deep Neural Network Library (oneDNN) to use the following CPU instructions in performance-critical operations:  AVX2 AVX512F AVX512_VNNI FMA\n",
      "To enable them in other operations, rebuild TensorFlow with the appropriate compiler flags.\n",
      "2024-05-16 03:59:31.804917: I tensorflow/core/util/port.cc:104] oneDNN custom operations are on. You may see slightly different numerical results due to floating-point round-off errors from different computation orders. To turn them off, set the environment variable `TF_ENABLE_ONEDNN_OPTS=0`.\n",
      "2024-05-16 03:59:32.858799: W tensorflow/compiler/xla/stream_executor/platform/default/dso_loader.cc:64] Could not load dynamic library 'libnvinfer.so.7'; dlerror: libnvinfer.so.7: cannot open shared object file: No such file or directory; LD_LIBRARY_PATH: /usr/local/nvidia/lib:/usr/local/nvidia/lib64\n",
      "2024-05-16 03:59:32.858918: W tensorflow/compiler/xla/stream_executor/platform/default/dso_loader.cc:64] Could not load dynamic library 'libnvinfer_plugin.so.7'; dlerror: libnvinfer_plugin.so.7: cannot open shared object file: No such file or directory; LD_LIBRARY_PATH: /usr/local/nvidia/lib:/usr/local/nvidia/lib64\n",
      "2024-05-16 03:59:32.858929: W tensorflow/compiler/tf2tensorrt/utils/py_utils.cc:38] TF-TRT Warning: Cannot dlopen some TensorRT libraries. If you would like to use Nvidia GPU with TensorRT, please make sure the missing libraries mentioned above are installed properly.\n"
     ]
    },
    {
     "data": {
      "text/plain": [
       "['AggregationMethod',\n",
       " 'Assert',\n",
       " 'CriticalSection',\n",
       " 'DType',\n",
       " 'DeviceSpec',\n",
       " 'GradientTape',\n",
       " 'Graph',\n",
       " 'IndexedSlices',\n",
       " 'IndexedSlicesSpec',\n",
       " 'Module',\n",
       " 'Operation',\n",
       " 'OptionalSpec',\n",
       " 'RaggedTensor',\n",
       " 'RaggedTensorSpec',\n",
       " 'RegisterGradient',\n",
       " 'SparseTensor',\n",
       " 'SparseTensorSpec',\n",
       " 'Tensor',\n",
       " 'TensorArray',\n",
       " 'TensorArraySpec',\n",
       " 'TensorShape',\n",
       " 'TensorSpec',\n",
       " 'TypeSpec',\n",
       " 'UnconnectedGradients',\n",
       " 'Variable',\n",
       " 'VariableAggregation',\n",
       " 'VariableSynchronization',\n",
       " '_API_MODULE',\n",
       " '_LazyLoader',\n",
       " '__all__',\n",
       " '__builtins__',\n",
       " '__cached__',\n",
       " '__compiler_version__',\n",
       " '__cxx11_abi_flag__',\n",
       " '__cxx_version__',\n",
       " '__doc__',\n",
       " '__file__',\n",
       " '__git_version__',\n",
       " '__internal__',\n",
       " '__loader__',\n",
       " '__monolithic_build__',\n",
       " '__name__',\n",
       " '__operators__',\n",
       " '__package__',\n",
       " '__path__',\n",
       " '__spec__',\n",
       " '__version__',\n",
       " '_api',\n",
       " '_compat',\n",
       " '_current_file_location',\n",
       " '_current_module',\n",
       " '_distutils',\n",
       " '_estimator_module',\n",
       " '_fi',\n",
       " '_initializers',\n",
       " '_inspect',\n",
       " '_keras',\n",
       " '_keras_module',\n",
       " '_keras_package',\n",
       " '_kernel_dir',\n",
       " '_ll',\n",
       " '_logging',\n",
       " '_losses',\n",
       " '_major_api_version',\n",
       " '_metrics',\n",
       " '_module_dir',\n",
       " '_module_util',\n",
       " '_names_with_underscore',\n",
       " '_optimizers',\n",
       " '_os',\n",
       " '_plugin_dir',\n",
       " '_running_from_pip_package',\n",
       " '_s',\n",
       " '_site',\n",
       " '_site_packages_dirs',\n",
       " '_sys',\n",
       " '_tf2',\n",
       " '_tf_api_dir',\n",
       " '_tf_dir',\n",
       " '_typing',\n",
       " 'abs',\n",
       " 'acos',\n",
       " 'acosh',\n",
       " 'add',\n",
       " 'add_n',\n",
       " 'approx_top_k',\n",
       " 'argmax',\n",
       " 'argmin',\n",
       " 'argsort',\n",
       " 'as_dtype',\n",
       " 'as_string',\n",
       " 'asin',\n",
       " 'asinh',\n",
       " 'assert_equal',\n",
       " 'assert_greater',\n",
       " 'assert_less',\n",
       " 'assert_rank',\n",
       " 'atan',\n",
       " 'atan2',\n",
       " 'atanh',\n",
       " 'audio',\n",
       " 'autodiff',\n",
       " 'autograph',\n",
       " 'batch_to_space',\n",
       " 'bfloat16',\n",
       " 'bitcast',\n",
       " 'bitwise',\n",
       " 'bool',\n",
       " 'boolean_mask',\n",
       " 'broadcast_dynamic_shape',\n",
       " 'broadcast_static_shape',\n",
       " 'broadcast_to',\n",
       " 'case',\n",
       " 'cast',\n",
       " 'clip_by_global_norm',\n",
       " 'clip_by_norm',\n",
       " 'clip_by_value',\n",
       " 'compat',\n",
       " 'complex',\n",
       " 'complex128',\n",
       " 'complex64',\n",
       " 'concat',\n",
       " 'cond',\n",
       " 'config',\n",
       " 'constant',\n",
       " 'constant_initializer',\n",
       " 'control_dependencies',\n",
       " 'convert_to_tensor',\n",
       " 'cos',\n",
       " 'cosh',\n",
       " 'cumsum',\n",
       " 'custom_gradient',\n",
       " 'data',\n",
       " 'debugging',\n",
       " 'device',\n",
       " 'distribute',\n",
       " 'divide',\n",
       " 'double',\n",
       " 'dtensor',\n",
       " 'dtypes',\n",
       " 'dynamic_partition',\n",
       " 'dynamic_stitch',\n",
       " 'edit_distance',\n",
       " 'eig',\n",
       " 'eigvals',\n",
       " 'einsum',\n",
       " 'ensure_shape',\n",
       " 'equal',\n",
       " 'errors',\n",
       " 'estimator',\n",
       " 'executing_eagerly',\n",
       " 'exp',\n",
       " 'expand_dims',\n",
       " 'experimental',\n",
       " 'extract_volume_patches',\n",
       " 'eye',\n",
       " 'feature_column',\n",
       " 'fill',\n",
       " 'fingerprint',\n",
       " 'float16',\n",
       " 'float32',\n",
       " 'float64',\n",
       " 'floor',\n",
       " 'foldl',\n",
       " 'foldr',\n",
       " 'function',\n",
       " 'gather',\n",
       " 'gather_nd',\n",
       " 'get_current_name_scope',\n",
       " 'get_logger',\n",
       " 'get_static_value',\n",
       " 'grad_pass_through',\n",
       " 'gradients',\n",
       " 'graph_util',\n",
       " 'greater',\n",
       " 'greater_equal',\n",
       " 'group',\n",
       " 'guarantee_const',\n",
       " 'half',\n",
       " 'hessians',\n",
       " 'histogram_fixed_width',\n",
       " 'histogram_fixed_width_bins',\n",
       " 'identity',\n",
       " 'identity_n',\n",
       " 'image',\n",
       " 'import_graph_def',\n",
       " 'init_scope',\n",
       " 'initializers',\n",
       " 'inside_function',\n",
       " 'int16',\n",
       " 'int32',\n",
       " 'int64',\n",
       " 'int8',\n",
       " 'io',\n",
       " 'is_tensor',\n",
       " 'keras',\n",
       " 'less',\n",
       " 'less_equal',\n",
       " 'linalg',\n",
       " 'linspace',\n",
       " 'lite',\n",
       " 'load_library',\n",
       " 'load_op_library',\n",
       " 'logical_and',\n",
       " 'logical_not',\n",
       " 'logical_or',\n",
       " 'lookup',\n",
       " 'losses',\n",
       " 'make_ndarray',\n",
       " 'make_tensor_proto',\n",
       " 'map_fn',\n",
       " 'math',\n",
       " 'matmul',\n",
       " 'matrix_square_root',\n",
       " 'maximum',\n",
       " 'meshgrid',\n",
       " 'metrics',\n",
       " 'minimum',\n",
       " 'mlir',\n",
       " 'multiply',\n",
       " 'name_scope',\n",
       " 'negative',\n",
       " 'nest',\n",
       " 'newaxis',\n",
       " 'nn',\n",
       " 'no_gradient',\n",
       " 'no_op',\n",
       " 'nondifferentiable_batch_function',\n",
       " 'norm',\n",
       " 'not_equal',\n",
       " 'numpy_function',\n",
       " 'one_hot',\n",
       " 'ones',\n",
       " 'ones_initializer',\n",
       " 'ones_like',\n",
       " 'optimizers',\n",
       " 'pad',\n",
       " 'parallel_stack',\n",
       " 'pow',\n",
       " 'print',\n",
       " 'profiler',\n",
       " 'py_function',\n",
       " 'qint16',\n",
       " 'qint32',\n",
       " 'qint8',\n",
       " 'quantization',\n",
       " 'queue',\n",
       " 'quint16',\n",
       " 'quint8',\n",
       " 'ragged',\n",
       " 'random',\n",
       " 'random_index_shuffle',\n",
       " 'random_normal_initializer',\n",
       " 'random_uniform_initializer',\n",
       " 'range',\n",
       " 'rank',\n",
       " 'raw_ops',\n",
       " 'realdiv',\n",
       " 'recompute_grad',\n",
       " 'reduce_all',\n",
       " 'reduce_any',\n",
       " 'reduce_logsumexp',\n",
       " 'reduce_max',\n",
       " 'reduce_mean',\n",
       " 'reduce_min',\n",
       " 'reduce_prod',\n",
       " 'reduce_sum',\n",
       " 'register_tensor_conversion_function',\n",
       " 'repeat',\n",
       " 'required_space_to_batch_paddings',\n",
       " 'reshape',\n",
       " 'resource',\n",
       " 'reverse',\n",
       " 'reverse_sequence',\n",
       " 'roll',\n",
       " 'round',\n",
       " 'saturate_cast',\n",
       " 'saved_model',\n",
       " 'scalar_mul',\n",
       " 'scan',\n",
       " 'scatter_nd',\n",
       " 'searchsorted',\n",
       " 'sequence_mask',\n",
       " 'sets',\n",
       " 'shape',\n",
       " 'shape_n',\n",
       " 'sigmoid',\n",
       " 'sign',\n",
       " 'signal',\n",
       " 'sin',\n",
       " 'sinh',\n",
       " 'size',\n",
       " 'slice',\n",
       " 'sort',\n",
       " 'space_to_batch',\n",
       " 'space_to_batch_nd',\n",
       " 'sparse',\n",
       " 'split',\n",
       " 'sqrt',\n",
       " 'square',\n",
       " 'squeeze',\n",
       " 'stack',\n",
       " 'stop_gradient',\n",
       " 'strided_slice',\n",
       " 'string',\n",
       " 'strings',\n",
       " 'subtract',\n",
       " 'summary',\n",
       " 'switch_case',\n",
       " 'sysconfig',\n",
       " 'tan',\n",
       " 'tanh',\n",
       " 'tensor_scatter_nd_add',\n",
       " 'tensor_scatter_nd_max',\n",
       " 'tensor_scatter_nd_min',\n",
       " 'tensor_scatter_nd_sub',\n",
       " 'tensor_scatter_nd_update',\n",
       " 'tensordot',\n",
       " 'test',\n",
       " 'tile',\n",
       " 'timestamp',\n",
       " 'tools',\n",
       " 'tpu',\n",
       " 'train',\n",
       " 'transpose',\n",
       " 'truediv',\n",
       " 'truncatediv',\n",
       " 'truncatemod',\n",
       " 'tsl',\n",
       " 'tuple',\n",
       " 'type_spec_from_value',\n",
       " 'types',\n",
       " 'uint16',\n",
       " 'uint32',\n",
       " 'uint64',\n",
       " 'uint8',\n",
       " 'unique',\n",
       " 'unique_with_counts',\n",
       " 'unravel_index',\n",
       " 'unstack',\n",
       " 'variable_creator_scope',\n",
       " 'variant',\n",
       " 'vectorized_map',\n",
       " 'version',\n",
       " 'where',\n",
       " 'while_loop',\n",
       " 'xla',\n",
       " 'zeros',\n",
       " 'zeros_initializer',\n",
       " 'zeros_like']"
      ]
     },
     "execution_count": 175,
     "metadata": {},
     "output_type": "execute_result"
    }
   ],
   "source": [
    "import tensorflow as tf\n",
    "dir(tf)"
   ]
  },
  {
   "cell_type": "markdown",
   "id": "9184c0c0-5d22-436b-be5d-0a1e21c9b273",
   "metadata": {},
   "source": [
    "## 패키지에 포함된 함수 등을 사용하기\n",
    "\n",
    "패키지에 포함된 함수 등을 사용할 때는 앞에 패키지 이름(import ~ as ~ 명령을 사용하였을 때는 패키지 별명)과 마침표(.)을 붙인 후 사용해야 한다.  \n",
    "IPython이나 Jupyter 등을 사용할 때는 마침표까지만 입력하고 탭(TAB)키를 누르면 자동 완성 기능을 지원한다.\n"
   ]
  },
  {
   "cell_type": "code",
   "execution_count": 176,
   "id": "2b8c337f-cfae-4458-8253-c497f585a81c",
   "metadata": {},
   "outputs": [
    {
     "data": {
      "text/plain": [
       "array([0, 1, 2, 3, 4, 5, 6, 7, 8, 9])"
      ]
     },
     "execution_count": 176,
     "metadata": {},
     "output_type": "execute_result"
    }
   ],
   "source": [
    "import numpy as np\n",
    "np.arange(10)"
   ]
  },
  {
   "cell_type": "markdown",
   "id": "f318cd95-bc7d-49a4-b167-95c952019f08",
   "metadata": {},
   "source": [
    "## 선택적 임포트\n",
    "\n",
    "패키지를 임포트할 때 다음과 같이 특정한 명령어들만 선택적으로 임포트할 수도 있다.\n",
    "\n",
    ">```python\n",
    ">from 패키지이름 import 명령어\n",
    ">```\n",
    "\n",
    "또는\n",
    "\n",
    ">```python\n",
    ">from 패키지이름 import 명령어1, 명령어2, 명령어3\n",
    ">```"
   ]
  },
  {
   "cell_type": "code",
   "execution_count": 177,
   "id": "77529df1-9289-4560-a1df-770964a1c0c4",
   "metadata": {},
   "outputs": [
    {
     "data": {
      "text/plain": [
       "array([0, 1, 2, 3, 4, 5, 6, 7, 8, 9])"
      ]
     },
     "execution_count": 177,
     "metadata": {},
     "output_type": "execute_result"
    }
   ],
   "source": [
    "from numpy import arange\n",
    "arange(10)"
   ]
  },
  {
   "cell_type": "markdown",
   "id": "b37cad10-bb9f-460b-9f96-5d33e854135c",
   "metadata": {},
   "source": [
    "# 13. 파이썬의 자료형"
   ]
  },
  {
   "cell_type": "markdown",
   "id": "2ec48787-202e-479b-be9c-3c46b379a711",
   "metadata": {},
   "source": [
    "## 자료형\n",
    "\n",
    "지금까지 우리는 변수에 숫자, 문자열, 리스트 등의 값을 마음대로 넣어서 사용해 왔다.  \n",
    "그러나 프로그램이 실행되려면 컴퓨터는 각 변수에 어떤 종류의 값이 들어가 있는지 알아야 한다.  \n",
    "값이 숫자인가 문자열인가 등에 따라 값을 저장하는 방식이나 계산하는 방법이 다르기 때문이다.  \n",
    "이러한 값의 종류를 자료형(data type) 혹은 타입(type)이라고 한다.  \n",
    "\n",
    "예를 들어 정수인 1과 문자열인 “1”이 컴퓨터에 저장될 때 어느 정도의 메모리를 차지하는지 알아보면 두 값의 저장 방식이 다르다는 것을 알 수 있다.\n",
    "\n",
    "파이썬에서 변수의 메모리 크기를 알기 위해서는 sys 패키지의 getsizeof 명령을 사용한다."
   ]
  },
  {
   "cell_type": "code",
   "execution_count": 178,
   "id": "5ac10388-0de7-4292-98ce-5598c76fac4c",
   "metadata": {},
   "outputs": [],
   "source": [
    "from sys import getsizeof"
   ]
  },
  {
   "cell_type": "code",
   "execution_count": 179,
   "id": "5ff3f92c-16cb-4dca-988d-7eaa748886c4",
   "metadata": {},
   "outputs": [
    {
     "data": {
      "text/plain": [
       "28"
      ]
     },
     "execution_count": 179,
     "metadata": {},
     "output_type": "execute_result"
    }
   ],
   "source": [
    "# 정수\n",
    "a = 1\n",
    "getsizeof(a)"
   ]
  },
  {
   "cell_type": "code",
   "execution_count": 180,
   "id": "2fdce9dc-ddd8-4c19-9f57-454182d49716",
   "metadata": {},
   "outputs": [
    {
     "data": {
      "text/plain": [
       "50"
      ]
     },
     "execution_count": 180,
     "metadata": {},
     "output_type": "execute_result"
    }
   ],
   "source": [
    "# 문자열\n",
    "b = \"1\"\n",
    "getsizeof(b)"
   ]
  },
  {
   "cell_type": "markdown",
   "id": "c69435c3-083b-4a19-ab4a-5fb46a472bd1",
   "metadata": {},
   "source": [
    "## 파이썬의 자료형\n",
    "\n",
    "파이썬에서 사용할 수 있는 자료형 중 많이 사용하는 것은 다음과 같다.\n",
    "\n",
    "- NoneType\n",
    "- bool\n",
    "- int\n",
    "- float\n",
    "- complex(복소수를 사용할 때는 허수부 숫자 뒤에 j문자를 붙인다.\n",
    ")\n",
    "- str\n",
    "- tuple\n",
    "- list\n",
    "- dict\n",
    "- function\n",
    "\n",
    "변수나 값의 자료형을 알아보려면 type 명령을 사용하면 된다. None 타입은 변수가 비어있음을 표시할 때 사용한다."
   ]
  },
  {
   "cell_type": "code",
   "execution_count": 181,
   "id": "7a70c9ff-1dbb-43e8-a17e-da1adc0e2712",
   "metadata": {},
   "outputs": [
    {
     "data": {
      "text/plain": [
       "NoneType"
      ]
     },
     "execution_count": 181,
     "metadata": {},
     "output_type": "execute_result"
    }
   ],
   "source": [
    "type(None)"
   ]
  },
  {
   "cell_type": "code",
   "execution_count": 182,
   "id": "eb0ac5a8-e046-491f-aeaf-e82b4eb91621",
   "metadata": {},
   "outputs": [
    {
     "data": {
      "text/plain": [
       "bool"
      ]
     },
     "execution_count": 182,
     "metadata": {},
     "output_type": "execute_result"
    }
   ],
   "source": [
    "type(True)"
   ]
  },
  {
   "cell_type": "code",
   "execution_count": 183,
   "id": "2febd9c8-568e-4af9-90d1-ff6cc562b571",
   "metadata": {},
   "outputs": [
    {
     "data": {
      "text/plain": [
       "int"
      ]
     },
     "execution_count": 183,
     "metadata": {},
     "output_type": "execute_result"
    }
   ],
   "source": [
    "type(1)"
   ]
  },
  {
   "cell_type": "code",
   "execution_count": 184,
   "id": "b40f85d2-5fdb-422f-adc1-b2cb3411b94f",
   "metadata": {},
   "outputs": [
    {
     "data": {
      "text/plain": [
       "float"
      ]
     },
     "execution_count": 184,
     "metadata": {},
     "output_type": "execute_result"
    }
   ],
   "source": [
    "type(3.14)"
   ]
  },
  {
   "cell_type": "code",
   "execution_count": 185,
   "id": "5ed4ed6b-1300-4dd8-bfe3-c3cfadd92dc3",
   "metadata": {},
   "outputs": [
    {
     "data": {
      "text/plain": [
       "complex"
      ]
     },
     "execution_count": 185,
     "metadata": {},
     "output_type": "execute_result"
    }
   ],
   "source": [
    "type(2 + 3j)"
   ]
  },
  {
   "cell_type": "code",
   "execution_count": 186,
   "id": "0e2195a8-3fcc-4e0b-8ff6-a040d8581c88",
   "metadata": {},
   "outputs": [
    {
     "data": {
      "text/plain": [
       "str"
      ]
     },
     "execution_count": 186,
     "metadata": {},
     "output_type": "execute_result"
    }
   ],
   "source": [
    "type(\"abc\")"
   ]
  },
  {
   "cell_type": "code",
   "execution_count": 187,
   "id": "f79b5bb8-1e90-4efa-8094-ba5bace0be4c",
   "metadata": {},
   "outputs": [
    {
     "data": {
      "text/plain": [
       "tuple"
      ]
     },
     "execution_count": 187,
     "metadata": {},
     "output_type": "execute_result"
    }
   ],
   "source": [
    "type((1, 2, 3))"
   ]
  },
  {
   "cell_type": "code",
   "execution_count": 188,
   "id": "1d30b727-cf03-46cc-ae94-a46e26d73f73",
   "metadata": {},
   "outputs": [
    {
     "data": {
      "text/plain": [
       "list"
      ]
     },
     "execution_count": 188,
     "metadata": {},
     "output_type": "execute_result"
    }
   ],
   "source": [
    "type([1, 2, 3])"
   ]
  },
  {
   "cell_type": "code",
   "execution_count": 189,
   "id": "fae60d6d-166e-4083-ae6f-dd58c53b1324",
   "metadata": {},
   "outputs": [
    {
     "data": {
      "text/plain": [
       "dict"
      ]
     },
     "execution_count": 189,
     "metadata": {},
     "output_type": "execute_result"
    }
   ],
   "source": [
    "type({\"A\": 10, \"B\": 20, \"C\": 30})"
   ]
  },
  {
   "cell_type": "code",
   "execution_count": 190,
   "id": "0c20b31e-0b8c-45fa-9643-88abd6fd83e9",
   "metadata": {},
   "outputs": [
    {
     "data": {
      "text/plain": [
       "function"
      ]
     },
     "execution_count": 190,
     "metadata": {},
     "output_type": "execute_result"
    }
   ],
   "source": [
    "def f():\n",
    "    return 1\n",
    "\n",
    "\n",
    "type(f)"
   ]
  },
  {
   "cell_type": "markdown",
   "id": "3bba7b32-bcdc-4d01-9887-981b283baf52",
   "metadata": {},
   "source": [
    "# 14. 파이썬에서 날짜와 시간 다루기\n",
    "\n",
    "날짜와 시간은 파이썬에서 기본으로 제공하는 자료형에는 포함되어 있지 않지만 데이터 분석에 있어 빠질 수 없는 중요한 자료형이다.\n",
    "\n",
    "- datetime: [https://docs.python.org/3/library/datetime.html](https://docs.python.org/3/library/datetime.html)\n",
    "- dateutil: [http://dateutil.readthedocs.org/en/latest/index.html](http://dateutil.readthedocs.org/en/latest/index.html)\n",
    "- time: [https://docs.python.org/3/library/time.html](https://docs.python.org/3/library/time.html)"
   ]
  },
  {
   "cell_type": "markdown",
   "id": "1c074382-6f37-4ec0-85d0-c98de2ca06b2",
   "metadata": {},
   "source": [
    "## time 패키지\n",
    "time 패키지는 실행을 잠시 멈추는 sleep 함수를 제공한다.  \n",
    "sleep 함수에 n이라는 숫자를 인수로 주면 n초만큼 쉬었다가 다음 코드를 실행한다.\n"
   ]
  },
  {
   "cell_type": "code",
   "execution_count": 191,
   "id": "c31a2f70-2e39-4d07-83e2-23ea76387049",
   "metadata": {},
   "outputs": [
    {
     "name": "stdout",
     "output_type": "stream",
     "text": [
      "1\n",
      "2\n",
      "3\n",
      "4\n",
      "elapsed time: 3.004947\n"
     ]
    }
   ],
   "source": [
    "import time\n",
    "\n",
    "start = time.time()\n",
    "\n",
    "print(1)\n",
    "\n",
    "time.sleep(1)\n",
    "\n",
    "print(2)\n",
    "\n",
    "time.sleep(1)\n",
    "\n",
    "print(3)\n",
    "\n",
    "time.sleep(1)\n",
    "\n",
    "print(4)\n",
    "\n",
    "print(\"elapsed time: %f\" % (time.time() - start))"
   ]
  },
  {
   "cell_type": "code",
   "execution_count": null,
   "id": "01eb31f1-b86f-4bad-b669-7e30e9d67e99",
   "metadata": {},
   "outputs": [],
   "source": []
  }
 ],
 "metadata": {
  "kernelspec": {
   "display_name": "Python 3 (ipykernel)",
   "language": "python",
   "name": "python3"
  },
  "language_info": {
   "codemirror_mode": {
    "name": "ipython",
    "version": 3
   },
   "file_extension": ".py",
   "mimetype": "text/x-python",
   "name": "python",
   "nbconvert_exporter": "python",
   "pygments_lexer": "ipython3",
   "version": "3.8.10"
  }
 },
 "nbformat": 4,
 "nbformat_minor": 5
}
