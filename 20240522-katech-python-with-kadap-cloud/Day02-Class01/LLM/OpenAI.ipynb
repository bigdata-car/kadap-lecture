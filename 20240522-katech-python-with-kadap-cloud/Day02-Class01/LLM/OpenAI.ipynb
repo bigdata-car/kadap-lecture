{
 "cells": [
  {
   "cell_type": "code",
   "execution_count": null,
   "id": "d88fdde6-337d-4ca0-bba4-b091ac27be80",
   "metadata": {},
   "outputs": [],
   "source": [
    "import os\n",
    "\n",
    "api_key = \"sk-****\"\n",
    "os.environ[\"OPENAI_API_KEY\"] = api_key\n",
    "\n",
    "os.environ.get(\"OPENAI_API_KEY\")"
   ]
  },
  {
   "cell_type": "code",
   "execution_count": null,
   "id": "941c032c-fd97-4b48-9444-8dc0d861f666",
   "metadata": {
    "scrolled": true
   },
   "outputs": [],
   "source": [
    "!pip install openai"
   ]
  },
  {
   "cell_type": "code",
   "execution_count": null,
   "id": "f1d4e59f-41ef-4a29-87d1-2a2f80842065",
   "metadata": {},
   "outputs": [],
   "source": [
    "from openai import OpenAI\n",
    "\n",
    "client = OpenAI(api_key=api_key)\n",
    "\n",
    "def get_response(prompt):\n",
    "    response = client.chat.completions.create(\n",
    "        model=\"gpt-3.5-turbo\",\n",
    "        messages=[{\"role\": \"system\", \"content\": \"You are a kind assistant. You should speak Korean.\"},\n",
    "                  {\"role\": \"user\", \"content\": prompt},],\n",
    "        # frequency_penalty: -2.0 ~ 2.0 사이의 값을 가지며, 값이 클수록 모델이 동일한 텍스트를 그대로 반복할 가능성을 줄여줌.\n",
    "        frequency_penalty=1,\n",
    "        # presence_penalty: -2.0 ~ 2.0 사이의 값을 가지며, 값이 클수록 새로운 답변을 할 가능성을 높여줌.\n",
    "        presence_penalty=1,\n",
    "        # max_tokens: 채팅시 생성할 수 있는 최대 토큰 수\n",
    "        # n: 입력에 대해 생성할 답변 수(default 1)\n",
    "        # response_format: 답변 형식을 지정. (text or json)\n",
    "        # stream, stream_option: 스트리밍 응답 옵션\n",
    "        # temperature: 0 ~ 2 사이의 값을 가지며, 값이 높을수록 할루시네이션이 증가함.\n",
    "    )\n",
    "    return response"
   ]
  },
  {
   "cell_type": "code",
   "execution_count": null,
   "id": "78b8f7fe-08c5-4dae-b495-e794b934d8a2",
   "metadata": {},
   "outputs": [],
   "source": [
    "query = \"한국자동차연구원에서 새로 오픈한 자동차데이터포털 KADaP에 대해 알려줘\"\n",
    "\n",
    "res = get_response(query)\n",
    "print(res)"
   ]
  }
 ],
 "metadata": {
  "kernelspec": {
   "display_name": "Python 3 (ipykernel)",
   "language": "python",
   "name": "python3"
  },
  "language_info": {
   "codemirror_mode": {
    "name": "ipython",
    "version": 3
   },
   "file_extension": ".py",
   "mimetype": "text/x-python",
   "name": "python",
   "nbconvert_exporter": "python",
   "pygments_lexer": "ipython3",
   "version": "3.9.18"
  }
 },
 "nbformat": 4,
 "nbformat_minor": 5
}
