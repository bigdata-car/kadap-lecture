{
 "cells": [
  {
   "cell_type": "code",
   "execution_count": 1,
   "id": "0fe0346b-0184-4759-9ff0-db257262df97",
   "metadata": {},
   "outputs": [],
   "source": [
    "import requests\n",
    "import json"
   ]
  },
  {
   "cell_type": "code",
   "execution_count": 6,
   "id": "6f812aed-427c-4c79-9b9d-cdb451158ad3",
   "metadata": {},
   "outputs": [
    {
     "name": "stdout",
     "output_type": "stream",
     "text": [
      "{'success': 'True', 'data': {'msg': 'Hello world'}}\n"
     ]
    }
   ],
   "source": [
    "url = \"http://localhost:8000/api/v1/tutorial/get\"\n",
    "\n",
    "res = requests.get(url=url)\n",
    "print(res.json())"
   ]
  },
  {
   "cell_type": "code",
   "execution_count": null,
   "id": "da36cec0-d5ea-4157-b2fa-ecfd8cc504dc",
   "metadata": {},
   "outputs": [],
   "source": []
  }
 ],
 "metadata": {
  "kernelspec": {
   "display_name": "Python 3 (ipykernel)",
   "language": "python",
   "name": "python3"
  },
  "language_info": {
   "codemirror_mode": {
    "name": "ipython",
    "version": 3
   },
   "file_extension": ".py",
   "mimetype": "text/x-python",
   "name": "python",
   "nbconvert_exporter": "python",
   "pygments_lexer": "ipython3",
   "version": "3.9.18"
  }
 },
 "nbformat": 4,
 "nbformat_minor": 5
}
