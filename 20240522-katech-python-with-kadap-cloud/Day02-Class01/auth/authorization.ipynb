{
 "cells": [
  {
   "cell_type": "code",
   "execution_count": null,
   "id": "b33f163f-323f-4478-9e13-a0ff12e75ff3",
   "metadata": {},
   "outputs": [],
   "source": [
    "import requests\n",
    "import json"
   ]
  },
  {
   "cell_type": "code",
   "execution_count": null,
   "id": "997d67cc-ef54-451f-95eb-6ca9d3bb6a6a",
   "metadata": {},
   "outputs": [],
   "source": [
    "myapikey = \"myapikey\""
   ]
  },
  {
   "cell_type": "code",
   "execution_count": null,
   "id": "ea3b4a92-4f38-4eb6-bb06-2f0467d440c9",
   "metadata": {},
   "outputs": [],
   "source": [
    "url = \"http://localhost:8000/api/v1/tutorial/get\"\n",
    "headers = {\n",
    "    \"Content-Type\": \"application/json\",\n",
    "    \"Authorization\": f\"Bearer {myapikey}\"\n",
    "}"
   ]
  },
  {
   "cell_type": "code",
   "execution_count": null,
   "id": "e556abe7-4feb-4f14-afed-e3107092925b",
   "metadata": {},
   "outputs": [],
   "source": [
    "res = requests.get(url=url, headers=headers)\n",
    "print(res.json())"
   ]
  }
 ],
 "metadata": {
  "kernelspec": {
   "display_name": "Python 3 (ipykernel)",
   "language": "python",
   "name": "python3"
  },
  "language_info": {
   "codemirror_mode": {
    "name": "ipython",
    "version": 3
   },
   "file_extension": ".py",
   "mimetype": "text/x-python",
   "name": "python",
   "nbconvert_exporter": "python",
   "pygments_lexer": "ipython3",
   "version": "3.9.18"
  }
 },
 "nbformat": 4,
 "nbformat_minor": 5
}
