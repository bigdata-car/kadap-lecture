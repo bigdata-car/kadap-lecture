{
 "cells": [
  {
   "cell_type": "code",
   "execution_count": null,
   "id": "a55b22a6-4b8b-426c-a145-48c3f41a90a5",
   "metadata": {},
   "outputs": [],
   "source": [
    "import requests\n",
    "import json\n",
    "\n",
    "class Mycar :\n",
    "    \"\"\"\n",
    "    자동차 종합정보조회 API 호출 예제\n",
    "    \n",
    "    1. apikey: KADaP 마켓에서 받은 API KEY 입력\n",
    "    2. ownername: 차량 소유주 명(e.g. 홍길동)\n",
    "    3. reginumber: 차량 번호(e.g. 12가3456)\n",
    "\n",
    "    위 세가지 파라미터를 통해 API 호출\n",
    "    \"\"\"\n",
    "    def __init__(self, apikey) :\n",
    "        self.url = \"https://api-gateway.bigdata-car.kr/carinfo/v1\"\n",
    "        self.headers = {\n",
    "            \"Content-Type\": \"application/json\",\n",
    "            \"x-api-key\": apikey\n",
    "        }\n",
    "\n",
    "    def carinfo(self, ownername, reginumber) :\n",
    "        url = self.url + \"/car_info\"\n",
    "        payload = json.dumps({\n",
    "            \"OWNERNAME\": ownername,\n",
    "            \"REGINUMBER\": reginumber\n",
    "        })\n",
    "\n",
    "        res = requests.post(url=url, headers=self.headers, data=payload)\n",
    "        return res.json()\n",
    "\n",
    "    def owner_verify(self, ownername, reginumber) :\n",
    "        url = self.url + \"/owner_verify\"\n",
    "        payload = json.dumps({\n",
    "            \"OWNERNAME\": ownername,\n",
    "            \"REGINUMBER\": reginumber\n",
    "        })\n",
    "\n",
    "        res = requests.post(url=url, headers=self.headers, data=payload)\n",
    "        return res.json()"
   ]
  },
  {
   "cell_type": "code",
   "execution_count": null,
   "id": "d37ac02e-ef98-4f8e-8d8f-0af6d7ab09f5",
   "metadata": {},
   "outputs": [],
   "source": [
    "# 객체 API KEY 입력\n",
    "mycar = Mycar(apikey=myapikey)"
   ]
  },
  {
   "cell_type": "code",
   "execution_count": null,
   "id": "e97c43f4-5ca4-4792-8092-116e65a72ed7",
   "metadata": {},
   "outputs": [],
   "source": [
    "# 자동차 종합정보 조회 API 호출\n",
    "mycar.carinfo(ownername=myownername, reginumber=myreginumber)"
   ]
  },
  {
   "cell_type": "code",
   "execution_count": null,
   "id": "717b8fff-1257-42d8-84f8-28b10b0eec58",
   "metadata": {},
   "outputs": [],
   "source": [
    "# 자동차 소유주 검증 API 호출\n",
    "mycar.owner_verify(ownername=myownername, reginumber=myreginumber)"
   ]
  }
 ],
 "metadata": {
  "kernelspec": {
   "display_name": "Python 3 (ipykernel)",
   "language": "python",
   "name": "python3"
  },
  "language_info": {
   "codemirror_mode": {
    "name": "ipython",
    "version": 3
   },
   "file_extension": ".py",
   "mimetype": "text/x-python",
   "name": "python",
   "nbconvert_exporter": "python",
   "pygments_lexer": "ipython3",
   "version": "3.9.18"
  }
 },
 "nbformat": 4,
 "nbformat_minor": 5
}
