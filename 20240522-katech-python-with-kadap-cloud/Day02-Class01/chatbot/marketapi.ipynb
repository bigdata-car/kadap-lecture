{
 "cells": [
  {
   "cell_type": "code",
   "execution_count": null,
   "id": "a55b22a6-4b8b-426c-a145-48c3f41a90a5",
   "metadata": {},
   "outputs": [],
   "source": [
    "import requests\n",
    "import json\n",
    "\n",
    "class Mychatbot :\n",
    "    \"\"\"\n",
    "    Chatbot API 호출 예제\n",
    "    \n",
    "    1. apikey: KADaP 마켓에서 받은 API KEY 입력\n",
    "    2. user_id: Chatbot API 사용을 위한 ID (default: katech)\n",
    "    3. prompt: Chatbot에 질문하기 위한 프롬프트\n",
    "\n",
    "    위 세가지 파라미터를 통해 API 호출\n",
    "    \"\"\"\n",
    "    def __init__(self, apikey) :\n",
    "        self.url = \"https://api-gateway.bigdata-car.kr/chatbot/v1/chatbot\"\n",
    "        self.headers = {\n",
    "            \"Content-Type\": \"application/json\",\n",
    "            \"x-api-key\": apikey\n",
    "        }\n",
    "\n",
    "    def chatbot(self, prompt, user_id) :\n",
    "        payload = json.dumps({\n",
    "            \"user_id\": user_id,\n",
    "            \"prompt\": prompt\n",
    "        })\n",
    "\n",
    "        # print(f\"user_id: {user_id}, prompt: {prompt}\")\n",
    "\n",
    "        res = requests.post(url=self.url, headers=self.headers, data=payload)\n",
    "        return res.json()"
   ]
  },
  {
   "cell_type": "code",
   "execution_count": null,
   "id": "d37ac02e-ef98-4f8e-8d8f-0af6d7ab09f5",
   "metadata": {},
   "outputs": [],
   "source": [
    "# 객체 API KEY 입력\n",
    "mychatbot = Mychatbot(apikey=myapikey)"
   ]
  },
  {
   "cell_type": "code",
   "execution_count": null,
   "id": "e97c43f4-5ca4-4792-8092-116e65a72ed7",
   "metadata": {},
   "outputs": [],
   "source": [
    "# Chatbot 질문\n",
    "mychatbot.chatbot(user_id=myid, prompt=myprompt)"
   ]
  }
 ],
 "metadata": {
  "kernelspec": {
   "display_name": "Python 3 (ipykernel)",
   "language": "python",
   "name": "python3"
  },
  "language_info": {
   "codemirror_mode": {
    "name": "ipython",
    "version": 3
   },
   "file_extension": ".py",
   "mimetype": "text/x-python",
   "name": "python",
   "nbconvert_exporter": "python",
   "pygments_lexer": "ipython3",
   "version": "3.9.18"
  }
 },
 "nbformat": 4,
 "nbformat_minor": 5
}
